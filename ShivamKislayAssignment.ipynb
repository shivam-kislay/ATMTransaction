{
  "nbformat": 4,
  "nbformat_minor": 0,
  "metadata": {
    "colab": {
      "name": "ShivamKislayAssignment.ipynb",
      "provenance": [],
      "collapsed_sections": [],
      "authorship_tag": "ABX9TyPkdGb6fZUF4nPm+fGbtgcR",
      "include_colab_link": true
    },
    "kernelspec": {
      "name": "python3",
      "display_name": "Python 3"
    },
    "accelerator": "GPU"
  },
  "cells": [
    {
      "cell_type": "markdown",
      "metadata": {
        "id": "view-in-github",
        "colab_type": "text"
      },
      "source": [
        "<a href=\"https://colab.research.google.com/github/shivam-kislay/ATMTransaction/blob/master/ShivamKislayAssignment.ipynb\" target=\"_parent\"><img src=\"https://colab.research.google.com/assets/colab-badge.svg\" alt=\"Open In Colab\"/></a>"
      ]
    },
    {
      "cell_type": "markdown",
      "metadata": {
        "id": "IAqboCY2I_lo",
        "colab_type": "text"
      },
      "source": [
        "**Install Libraries**"
      ]
    },
    {
      "cell_type": "code",
      "metadata": {
        "id": "NONLfltvI-gJ",
        "colab_type": "code",
        "outputId": "afa728a2-7300-40b6-884a-9e6a8f2a6b75",
        "colab": {
          "base_uri": "https://localhost:8080/",
          "height": 51
        }
      },
      "source": [
        "from __future__ import absolute_import, division, print_function, unicode_literals\n",
        "\n",
        "#try:\n",
        "  # The %tensorflow_version magic only works in colab.\n",
        "  # tensorflow_version 2.x\n",
        "#except Exception:\n",
        "#  pass\n",
        "import numpy as np\n",
        "import matplotlib.pyplot as plt\n",
        "import tensorflow as tf\n",
        "\n",
        "from tensorflow.keras.datasets import mnist\n",
        "\n",
        "print('TensorFlow version:', tf.__version__)\n",
        "print('Is Executing Eagerly?', tf.executing_eagerly())"
      ],
      "execution_count": 1,
      "outputs": [
        {
          "output_type": "stream",
          "text": [
            "TensorFlow version: 2.2.0-rc2\n",
            "Is Executing Eagerly? True\n"
          ],
          "name": "stdout"
        }
      ]
    },
    {
      "cell_type": "markdown",
      "metadata": {
        "id": "pYLYacSwzJHQ",
        "colab_type": "text"
      },
      "source": [
        "## **Dense Layer Models**"
      ]
    },
    {
      "cell_type": "markdown",
      "metadata": {
        "id": "7q5KjHEAJUgL",
        "colab_type": "text"
      },
      "source": [
        "**Encoder**"
      ]
    },
    {
      "cell_type": "markdown",
      "metadata": {
        "id": "KW8v7tQdJg20",
        "colab_type": "text"
      },
      "source": [
        "Single Hidden Layer Encoder"
      ]
    },
    {
      "cell_type": "code",
      "metadata": {
        "id": "FQW_-y0aJYRt",
        "colab_type": "code",
        "colab": {}
      },
      "source": [
        "class Encoder(tf.keras.layers.Layer):\n",
        "    def __init__(self, intermediate_dim):\n",
        "        super(Encoder, self).__init__()\n",
        "        self.hidden_layer = tf.keras.layers.Dense(units=intermediate_dim, activation=tf.nn.relu)\n",
        "        self.output_layer = tf.keras.layers.Dense(units=intermediate_dim, activation=tf.nn.relu)\n",
        "    \n",
        "    def call(self, input_features):\n",
        "        activation = self.hidden_layer(input_features)\n",
        "        return self.output_layer(activation)"
      ],
      "execution_count": 0,
      "outputs": []
    },
    {
      "cell_type": "markdown",
      "metadata": {
        "id": "ZZnvwdNFJokw",
        "colab_type": "text"
      },
      "source": [
        "Two Hidden Layer Encoder"
      ]
    },
    {
      "cell_type": "code",
      "metadata": {
        "id": "evUmw3HuJsWc",
        "colab_type": "code",
        "colab": {}
      },
      "source": [
        "class Encoder_two(tf.keras.layers.Layer):\n",
        "    def __init__(self, intermediate_dim):\n",
        "        super(Encoder_two, self).__init__()\n",
        "        self.hidden_layer = tf.keras.layers.Dense(units=intermediate_dim, activation=tf.nn.relu)\n",
        "        self.hidden_layer2 = tf.keras.layers.Dense(units= (intermediate_dim / 2), activation=tf.nn.relu)\n",
        "        self.output_layer = tf.keras.layers.Dense(units=(intermediate_dim / 2), activation=tf.nn.relu)\n",
        "    \n",
        "    def call(self, input_features):\n",
        "        layer1 = self.hidden_layer(input_features)\n",
        "        activation = self.hidden_layer2(layer1)\n",
        "        return self.output_layer(activation)"
      ],
      "execution_count": 0,
      "outputs": []
    },
    {
      "cell_type": "markdown",
      "metadata": {
        "id": "155bvgmNOJuD",
        "colab_type": "text"
      },
      "source": [
        "Three Hidden layer Encoder"
      ]
    },
    {
      "cell_type": "code",
      "metadata": {
        "id": "iz57Y4DgOM8H",
        "colab_type": "code",
        "colab": {}
      },
      "source": [
        "class Encoder_three(tf.keras.layers.Layer):\n",
        "    def __init__(self, intermediate_dim):\n",
        "        super(Encoder_three, self).__init__()\n",
        "        self.hidden_layer = tf.keras.layers.Dense(units=intermediate_dim, activation=tf.nn.relu)\n",
        "        self.hidden_layer2 = tf.keras.layers.Dense(units= (intermediate_dim / 2), activation=tf.nn.relu)\n",
        "        self.hidden_layer3 = tf.keras.layers.Dense(units= ((intermediate_dim / 2) / 2), activation=tf.nn.relu)\n",
        "        self.output_layer = tf.keras.layers.Dense(units= ((intermediate_dim / 2) / 2), activation=tf.nn.relu)\n",
        "    \n",
        "    def call(self, input_features):\n",
        "        layer1 = self.hidden_layer(input_features)\n",
        "        layer2 = self.hidden_layer2(layer1)\n",
        "        activation = self.hidden_layer3(layer2)\n",
        "        return self.output_layer(activation)"
      ],
      "execution_count": 0,
      "outputs": []
    },
    {
      "cell_type": "markdown",
      "metadata": {
        "id": "yR1DoWToJ9Jt",
        "colab_type": "text"
      },
      "source": [
        "**Decoder**"
      ]
    },
    {
      "cell_type": "markdown",
      "metadata": {
        "id": "AgjkVtXOKCtf",
        "colab_type": "text"
      },
      "source": [
        "Single Layer Decoder"
      ]
    },
    {
      "cell_type": "code",
      "metadata": {
        "id": "4RhH2wWXKAuE",
        "colab_type": "code",
        "colab": {}
      },
      "source": [
        "class Decoder(tf.keras.layers.Layer):\n",
        "    def __init__(self, intermediate_dim, original_dim):\n",
        "        super(Decoder, self).__init__()\n",
        "        self.hidden_layer = tf.keras.layers.Dense(units=intermediate_dim, activation=tf.nn.relu)\n",
        "        self.output_layer = tf.keras.layers.Dense(units=original_dim, activation=tf.nn.relu)\n",
        "  \n",
        "    def call(self, code):\n",
        "        activation = self.hidden_layer(code)\n",
        "        return self.output_layer(activation)"
      ],
      "execution_count": 0,
      "outputs": []
    },
    {
      "cell_type": "markdown",
      "metadata": {
        "id": "Wc3COHStKJCV",
        "colab_type": "text"
      },
      "source": [
        "Double Layer Decoder"
      ]
    },
    {
      "cell_type": "code",
      "metadata": {
        "id": "NZDlCAsEKLh_",
        "colab_type": "code",
        "colab": {}
      },
      "source": [
        "class Decoder_two(tf.keras.layers.Layer):\n",
        "    def __init__(self, intermediate_dim, original_dim):\n",
        "        super(Decoder_two, self).__init__()\n",
        "        # self.hidden_layer = tf.keras.layers.Dense(units=(intermediate_dim / 2), activation=tf.nn.relu)\n",
        "        self.hidden_layer2 = tf.keras.layers.Dense(units= intermediate_dim, activation=tf.nn.relu)\n",
        "        self.output_layer = tf.keras.layers.Dense(units=original_dim, activation=tf.nn.relu)\n",
        "  \n",
        "    def call(self, code):\n",
        "        # layer1 = self.hidden_layer(code)\n",
        "        activation = self.hidden_layer2(code)\n",
        "        return self.output_layer(activation)"
      ],
      "execution_count": 0,
      "outputs": []
    },
    {
      "cell_type": "markdown",
      "metadata": {
        "id": "wyrQcyPOOX3G",
        "colab_type": "text"
      },
      "source": [
        "Three layer Decoder"
      ]
    },
    {
      "cell_type": "code",
      "metadata": {
        "id": "_PzRCsXcObUu",
        "colab_type": "code",
        "colab": {}
      },
      "source": [
        "class Decoder_three(tf.keras.layers.Layer):\n",
        "    def __init__(self, intermediate_dim, original_dim):\n",
        "        super(Decoder_three, self).__init__()\n",
        "        # self.hidden_layer = tf.keras.layers.Dense(units= ((intermediate_dim / 2) / 2), activation=tf.nn.relu)\n",
        "        self.hidden_layer2 = tf.keras.layers.Dense(units= (intermediate_dim / 2), activation=tf.nn.relu)\n",
        "        self.hidden_layer3 = tf.keras.layers.Dense(units= intermediate_dim, activation=tf.nn.relu)\n",
        "        self.output_layer = tf.keras.layers.Dense(units=original_dim, activation=tf.nn.relu)\n",
        "  \n",
        "    def call(self, code):\n",
        "        #layer1 = self.hidden_layer(code)\n",
        "        layer2 = self.hidden_layer2(code)\n",
        "        activation = self.hidden_layer3(layer2)\n",
        "        return self.output_layer(activation)"
      ],
      "execution_count": 0,
      "outputs": []
    },
    {
      "cell_type": "markdown",
      "metadata": {
        "id": "OIrVEkOxKXk_",
        "colab_type": "text"
      },
      "source": [
        "**Auto Encoder Model**\n",
        "Total of 3 dense layer models are made with 1, 2 and 3 hidden layers repectively."
      ]
    },
    {
      "cell_type": "markdown",
      "metadata": {
        "id": "zM_MFpJ2KdSE",
        "colab_type": "text"
      },
      "source": [
        "Auto Encoder Model for 1 layer"
      ]
    },
    {
      "cell_type": "code",
      "metadata": {
        "id": "ig2w7z0PKk43",
        "colab_type": "code",
        "colab": {}
      },
      "source": [
        "class Autoencoder(tf.keras.Model):\n",
        "  def __init__(self, intermediate_dim, original_dim):\n",
        "    super(Autoencoder, self).__init__()\n",
        "    self.loss = []\n",
        "    self.encoder = Encoder(intermediate_dim=intermediate_dim)\n",
        "    self.decoder = Decoder(intermediate_dim=intermediate_dim, original_dim=original_dim)\n",
        "\n",
        "  def call(self, input_features):\n",
        "    code = self.encoder(input_features)\n",
        "    reconstructed = self.decoder(code)\n",
        "    return reconstructed"
      ],
      "execution_count": 0,
      "outputs": []
    },
    {
      "cell_type": "markdown",
      "metadata": {
        "id": "SX9denbdLKQl",
        "colab_type": "text"
      },
      "source": [
        "Auto Encoder Model for 2 layers"
      ]
    },
    {
      "cell_type": "code",
      "metadata": {
        "id": "IS0ZvEgTLP0e",
        "colab_type": "code",
        "colab": {}
      },
      "source": [
        "class Autoencoder_two(tf.keras.Model):\n",
        "  def __init__(self, intermediate_dim, original_dim):\n",
        "    super(Autoencoder_two, self).__init__()\n",
        "    self.loss = []\n",
        "    self.encoder = Encoder_two(intermediate_dim=intermediate_dim)\n",
        "    self.decoder = Decoder_two(intermediate_dim=intermediate_dim, original_dim=original_dim)\n",
        "\n",
        "  def call(self, input_features):\n",
        "    code = self.encoder(input_features)\n",
        "    reconstructed = self.decoder(code)\n",
        "    return reconstructed"
      ],
      "execution_count": 0,
      "outputs": []
    },
    {
      "cell_type": "markdown",
      "metadata": {
        "id": "3iURW2yYO6Xx",
        "colab_type": "text"
      },
      "source": [
        "Auto Encoder for 3 layers"
      ]
    },
    {
      "cell_type": "code",
      "metadata": {
        "id": "3knKniNVO_a-",
        "colab_type": "code",
        "colab": {}
      },
      "source": [
        "class Autoencoder_three(tf.keras.Model):\n",
        "  def __init__(self, intermediate_dim, original_dim):\n",
        "    super(Autoencoder_three, self).__init__()\n",
        "    self.loss = []\n",
        "    self.encoder = Encoder_three(intermediate_dim=intermediate_dim)\n",
        "    self.decoder = Decoder_three(intermediate_dim=intermediate_dim, original_dim=original_dim)\n",
        "\n",
        "  def call(self, input_features):\n",
        "    code = self.encoder(input_features)\n",
        "    reconstructed = self.decoder(code)\n",
        "    return reconstructed"
      ],
      "execution_count": 0,
      "outputs": []
    },
    {
      "cell_type": "markdown",
      "metadata": {
        "id": "nagaCu8OLuPu",
        "colab_type": "text"
      },
      "source": [
        "**Loss Function**"
      ]
    },
    {
      "cell_type": "code",
      "metadata": {
        "id": "tjW1z1eOL0kJ",
        "colab_type": "code",
        "colab": {}
      },
      "source": [
        "def loss(preds, real):\n",
        "  return tf.reduce_mean(tf.square(tf.subtract(preds, real)))"
      ],
      "execution_count": 0,
      "outputs": []
    },
    {
      "cell_type": "markdown",
      "metadata": {
        "id": "zvvZYn-xMYvX",
        "colab_type": "text"
      },
      "source": [
        "**Forward Pass Optimization**"
      ]
    },
    {
      "cell_type": "code",
      "metadata": {
        "id": "3j2TTLoJMgIV",
        "colab_type": "code",
        "colab": {}
      },
      "source": [
        "def train(loss, model, opt, original):\n",
        "  with tf.GradientTape() as tape:\n",
        "    preds = model(original)\n",
        "    reconstruction_error = loss(preds, original)\n",
        "  gradients = tape.gradient(reconstruction_error, model.trainable_variables)\n",
        "  gradient_variables = zip(gradients, model.trainable_variables)\n",
        "  opt.apply_gradients(gradient_variables)\n",
        "  \n",
        "  return reconstruction_error"
      ],
      "execution_count": 0,
      "outputs": []
    },
    {
      "cell_type": "markdown",
      "metadata": {
        "id": "zAGkR9FcMp3u",
        "colab_type": "text"
      },
      "source": [
        "**Training Loop**"
      ]
    },
    {
      "cell_type": "code",
      "metadata": {
        "id": "gdbOp8MyMwTB",
        "colab_type": "code",
        "colab": {}
      },
      "source": [
        "def train_loop(model, opt, loss, dataset, epochs):\n",
        "  for epoch in range(epochs):\n",
        "    epoch_loss = 0\n",
        "    for step, batch_features in enumerate(dataset):\n",
        "      loss_values = train(loss, model, opt, batch_features)\n",
        "      epoch_loss += loss_values\n",
        "    model.loss.append(epoch_loss)\n",
        "    print('Epoch {}/{}. Loss: {}'.format(epoch + 1, epochs, epoch_loss.numpy()))"
      ],
      "execution_count": 0,
      "outputs": []
    },
    {
      "cell_type": "markdown",
      "metadata": {
        "id": "xJlOKYtOM3Zm",
        "colab_type": "text"
      },
      "source": [
        "**Process Data Set**"
      ]
    },
    {
      "cell_type": "code",
      "metadata": {
        "id": "ZeBmdoqQM6vN",
        "colab_type": "code",
        "outputId": "20f8785b-54f3-48c2-90b7-ba767355cd7c",
        "colab": {
          "base_uri": "https://localhost:8080/",
          "height": 51
        }
      },
      "source": [
        "from tensorflow.keras.datasets import mnist\n",
        "(x_train, _), (x_test, _) = mnist.load_data()\n",
        "\n",
        "x_train = x_train / 255.\n",
        "\n",
        "x_train = x_train.astype(np.float32)\n",
        "x_train = np.reshape(x_train, (x_train.shape[0], 784))\n",
        "x_test = np.reshape(x_test, (x_test.shape[0], 784))\n",
        "\n",
        "training_dataset = tf.data.Dataset.from_tensor_slices(x_train).batch(256)"
      ],
      "execution_count": 14,
      "outputs": [
        {
          "output_type": "stream",
          "text": [
            "Downloading data from https://storage.googleapis.com/tensorflow/tf-keras-datasets/mnist.npz\n",
            "11493376/11490434 [==============================] - 0s 0us/step\n"
          ],
          "name": "stdout"
        }
      ]
    },
    {
      "cell_type": "markdown",
      "metadata": {
        "id": "0UZWZ6WzNEK9",
        "colab_type": "text"
      },
      "source": [
        "**Train Model**"
      ]
    },
    {
      "cell_type": "markdown",
      "metadata": {
        "id": "dvMA-GIENwjn",
        "colab_type": "text"
      },
      "source": [
        "Model with 1 layer"
      ]
    },
    {
      "cell_type": "code",
      "metadata": {
        "id": "_oxY2kYVNF5S",
        "colab_type": "code",
        "colab": {
          "base_uri": "https://localhost:8080/",
          "height": 1000
        },
        "outputId": "15c92c01-b913-457e-adfe-d1753560a654"
      },
      "source": [
        "model = Autoencoder(intermediate_dim=128, original_dim=784)\n",
        "opt = tf.keras.optimizers.Adam(learning_rate=1e-2)\n",
        "\n",
        "train_loop(model, opt, loss, training_dataset, 100)"
      ],
      "execution_count": 41,
      "outputs": [
        {
          "output_type": "stream",
          "text": [
            "Epoch 1/100. Loss: 9.377121925354004\n",
            "Epoch 2/100. Loss: 5.898947238922119\n",
            "Epoch 3/100. Loss: 5.258394718170166\n",
            "Epoch 4/100. Loss: 4.9898762702941895\n",
            "Epoch 5/100. Loss: 4.828385829925537\n",
            "Epoch 6/100. Loss: 4.719066619873047\n",
            "Epoch 7/100. Loss: 4.598771572113037\n",
            "Epoch 8/100. Loss: 4.51544713973999\n",
            "Epoch 9/100. Loss: 4.481765270233154\n",
            "Epoch 10/100. Loss: 4.443882942199707\n",
            "Epoch 11/100. Loss: 4.447144031524658\n",
            "Epoch 12/100. Loss: 4.388224124908447\n",
            "Epoch 13/100. Loss: 4.399661540985107\n",
            "Epoch 14/100. Loss: 4.361288547515869\n",
            "Epoch 15/100. Loss: 4.349455833435059\n",
            "Epoch 16/100. Loss: 4.33964729309082\n",
            "Epoch 17/100. Loss: 4.354043483734131\n",
            "Epoch 18/100. Loss: 4.330676555633545\n",
            "Epoch 19/100. Loss: 4.317899227142334\n",
            "Epoch 20/100. Loss: 4.3105268478393555\n",
            "Epoch 21/100. Loss: 4.291772365570068\n",
            "Epoch 22/100. Loss: 4.291615009307861\n",
            "Epoch 23/100. Loss: 4.299193382263184\n",
            "Epoch 24/100. Loss: 4.315411567687988\n",
            "Epoch 25/100. Loss: 4.286376476287842\n",
            "Epoch 26/100. Loss: 4.295950412750244\n",
            "Epoch 27/100. Loss: 4.324140548706055\n",
            "Epoch 28/100. Loss: 4.283314228057861\n",
            "Epoch 29/100. Loss: 4.296290397644043\n",
            "Epoch 30/100. Loss: 4.311774730682373\n",
            "Epoch 31/100. Loss: 4.259983062744141\n",
            "Epoch 32/100. Loss: 4.272480487823486\n",
            "Epoch 33/100. Loss: 4.265486717224121\n",
            "Epoch 34/100. Loss: 4.276599884033203\n",
            "Epoch 35/100. Loss: 4.25630521774292\n",
            "Epoch 36/100. Loss: 4.257048606872559\n",
            "Epoch 37/100. Loss: 4.267378330230713\n",
            "Epoch 38/100. Loss: 4.246850967407227\n",
            "Epoch 39/100. Loss: 4.234766006469727\n",
            "Epoch 40/100. Loss: 4.252239227294922\n",
            "Epoch 41/100. Loss: 4.22955846786499\n",
            "Epoch 42/100. Loss: 4.2495341300964355\n",
            "Epoch 43/100. Loss: 4.226089000701904\n",
            "Epoch 44/100. Loss: 4.25637149810791\n",
            "Epoch 45/100. Loss: 4.228574275970459\n",
            "Epoch 46/100. Loss: 4.253700256347656\n",
            "Epoch 47/100. Loss: 4.255932807922363\n",
            "Epoch 48/100. Loss: 4.249852657318115\n",
            "Epoch 49/100. Loss: 4.238527774810791\n",
            "Epoch 50/100. Loss: 4.257814407348633\n",
            "Epoch 51/100. Loss: 4.233423233032227\n",
            "Epoch 52/100. Loss: 4.2394232749938965\n",
            "Epoch 53/100. Loss: 4.208984375\n",
            "Epoch 54/100. Loss: 4.237534523010254\n",
            "Epoch 55/100. Loss: 4.235853672027588\n",
            "Epoch 56/100. Loss: 4.209824562072754\n",
            "Epoch 57/100. Loss: 4.221408843994141\n",
            "Epoch 58/100. Loss: 4.2328314781188965\n",
            "Epoch 59/100. Loss: 4.230605602264404\n",
            "Epoch 60/100. Loss: 4.226786136627197\n",
            "Epoch 61/100. Loss: 4.203721046447754\n",
            "Epoch 62/100. Loss: 4.215907096862793\n",
            "Epoch 63/100. Loss: 4.192286968231201\n",
            "Epoch 64/100. Loss: 4.223673343658447\n",
            "Epoch 65/100. Loss: 4.21746826171875\n",
            "Epoch 66/100. Loss: 4.206356048583984\n",
            "Epoch 67/100. Loss: 4.210379600524902\n",
            "Epoch 68/100. Loss: 4.192043304443359\n",
            "Epoch 69/100. Loss: 4.160961151123047\n",
            "Epoch 70/100. Loss: 4.17202615737915\n",
            "Epoch 71/100. Loss: 4.149534225463867\n",
            "Epoch 72/100. Loss: 4.164309501647949\n",
            "Epoch 73/100. Loss: 4.150058269500732\n",
            "Epoch 74/100. Loss: 4.150078296661377\n",
            "Epoch 75/100. Loss: 4.165877342224121\n",
            "Epoch 76/100. Loss: 4.135163307189941\n",
            "Epoch 77/100. Loss: 4.155207633972168\n",
            "Epoch 78/100. Loss: 4.169762134552002\n",
            "Epoch 79/100. Loss: 4.203331470489502\n",
            "Epoch 80/100. Loss: 4.140052795410156\n",
            "Epoch 81/100. Loss: 4.171420574188232\n",
            "Epoch 82/100. Loss: 4.145209789276123\n",
            "Epoch 83/100. Loss: 4.142115592956543\n",
            "Epoch 84/100. Loss: 4.129659652709961\n",
            "Epoch 85/100. Loss: 4.177435398101807\n",
            "Epoch 86/100. Loss: 4.163059711456299\n",
            "Epoch 87/100. Loss: 4.141025543212891\n",
            "Epoch 88/100. Loss: 4.159759521484375\n",
            "Epoch 89/100. Loss: 4.147641181945801\n",
            "Epoch 90/100. Loss: 4.163675785064697\n",
            "Epoch 91/100. Loss: 4.138327121734619\n",
            "Epoch 92/100. Loss: 4.163790702819824\n",
            "Epoch 93/100. Loss: 4.129462242126465\n",
            "Epoch 94/100. Loss: 4.139986991882324\n",
            "Epoch 95/100. Loss: 4.140552043914795\n",
            "Epoch 96/100. Loss: 4.149065017700195\n",
            "Epoch 97/100. Loss: 4.118480205535889\n",
            "Epoch 98/100. Loss: 4.154200077056885\n",
            "Epoch 99/100. Loss: 4.147679328918457\n",
            "Epoch 100/100. Loss: 4.15082311630249\n"
          ],
          "name": "stdout"
        }
      ]
    },
    {
      "cell_type": "markdown",
      "metadata": {
        "id": "c6NDuICeN1rV",
        "colab_type": "text"
      },
      "source": [
        "Model With Two Layer"
      ]
    },
    {
      "cell_type": "code",
      "metadata": {
        "id": "AHNkyUJFN4zQ",
        "colab_type": "code",
        "colab": {
          "base_uri": "https://localhost:8080/",
          "height": 1000
        },
        "outputId": "50ecf31a-3051-4872-c8c5-6645e7ff5a6f"
      },
      "source": [
        "model2 = Autoencoder_two(intermediate_dim=128, original_dim=784)\n",
        "#print(model2)\n",
        "opt = tf.keras.optimizers.Adam(learning_rate=1e-2)\n",
        "train_loop(model2, opt, loss, training_dataset, 100)"
      ],
      "execution_count": 42,
      "outputs": [
        {
          "output_type": "stream",
          "text": [
            "Epoch 1/100. Loss: 10.984440803527832\n",
            "Epoch 2/100. Loss: 7.048885345458984\n",
            "Epoch 3/100. Loss: 6.185931205749512\n",
            "Epoch 4/100. Loss: 5.739194869995117\n",
            "Epoch 5/100. Loss: 5.47349739074707\n",
            "Epoch 6/100. Loss: 5.142791748046875\n",
            "Epoch 7/100. Loss: 4.872660160064697\n",
            "Epoch 8/100. Loss: 4.7509613037109375\n",
            "Epoch 9/100. Loss: 4.670008182525635\n",
            "Epoch 10/100. Loss: 4.607510089874268\n",
            "Epoch 11/100. Loss: 4.503444671630859\n",
            "Epoch 12/100. Loss: 4.420748233795166\n",
            "Epoch 13/100. Loss: 4.395883083343506\n",
            "Epoch 14/100. Loss: 4.3506975173950195\n",
            "Epoch 15/100. Loss: 4.324042320251465\n",
            "Epoch 16/100. Loss: 4.298987865447998\n",
            "Epoch 17/100. Loss: 4.282363414764404\n",
            "Epoch 18/100. Loss: 4.2893500328063965\n",
            "Epoch 19/100. Loss: 4.2442803382873535\n",
            "Epoch 20/100. Loss: 4.2516326904296875\n",
            "Epoch 21/100. Loss: 4.211433410644531\n",
            "Epoch 22/100. Loss: 4.20611047744751\n",
            "Epoch 23/100. Loss: 4.205012798309326\n",
            "Epoch 24/100. Loss: 4.205842971801758\n",
            "Epoch 25/100. Loss: 4.168831825256348\n",
            "Epoch 26/100. Loss: 4.182838439941406\n",
            "Epoch 27/100. Loss: 4.165553569793701\n",
            "Epoch 28/100. Loss: 4.16695499420166\n",
            "Epoch 29/100. Loss: 4.191784381866455\n",
            "Epoch 30/100. Loss: 4.142432689666748\n",
            "Epoch 31/100. Loss: 4.167023181915283\n",
            "Epoch 32/100. Loss: 4.141446113586426\n",
            "Epoch 33/100. Loss: 4.130370616912842\n",
            "Epoch 34/100. Loss: 4.125304222106934\n",
            "Epoch 35/100. Loss: 4.122770309448242\n",
            "Epoch 36/100. Loss: 4.129251003265381\n",
            "Epoch 37/100. Loss: 4.128148555755615\n",
            "Epoch 38/100. Loss: 4.12345027923584\n",
            "Epoch 39/100. Loss: 4.139425754547119\n",
            "Epoch 40/100. Loss: 4.10742712020874\n",
            "Epoch 41/100. Loss: 4.08649206161499\n",
            "Epoch 42/100. Loss: 4.121623992919922\n",
            "Epoch 43/100. Loss: 4.073141574859619\n",
            "Epoch 44/100. Loss: 4.128824234008789\n",
            "Epoch 45/100. Loss: 4.098109722137451\n",
            "Epoch 46/100. Loss: 4.094399929046631\n",
            "Epoch 47/100. Loss: 4.092765808105469\n",
            "Epoch 48/100. Loss: 4.106348991394043\n",
            "Epoch 49/100. Loss: 4.10435676574707\n",
            "Epoch 50/100. Loss: 4.090290546417236\n",
            "Epoch 51/100. Loss: 4.1012959480285645\n",
            "Epoch 52/100. Loss: 4.064813137054443\n",
            "Epoch 53/100. Loss: 4.104909420013428\n",
            "Epoch 54/100. Loss: 4.095833778381348\n",
            "Epoch 55/100. Loss: 4.106210708618164\n",
            "Epoch 56/100. Loss: 4.095263481140137\n",
            "Epoch 57/100. Loss: 4.093866348266602\n",
            "Epoch 58/100. Loss: 4.068802833557129\n",
            "Epoch 59/100. Loss: 4.09346342086792\n",
            "Epoch 60/100. Loss: 4.0665388107299805\n",
            "Epoch 61/100. Loss: 4.0884599685668945\n",
            "Epoch 62/100. Loss: 4.053024768829346\n",
            "Epoch 63/100. Loss: 4.071842193603516\n",
            "Epoch 64/100. Loss: 4.029417991638184\n",
            "Epoch 65/100. Loss: 4.0280375480651855\n",
            "Epoch 66/100. Loss: 4.029311180114746\n",
            "Epoch 67/100. Loss: 4.023495674133301\n",
            "Epoch 68/100. Loss: 4.0301103591918945\n",
            "Epoch 69/100. Loss: 4.019923210144043\n",
            "Epoch 70/100. Loss: 4.030488014221191\n",
            "Epoch 71/100. Loss: 4.002411842346191\n",
            "Epoch 72/100. Loss: 4.0127387046813965\n",
            "Epoch 73/100. Loss: 4.052207946777344\n",
            "Epoch 74/100. Loss: 4.001175880432129\n",
            "Epoch 75/100. Loss: 3.999368190765381\n",
            "Epoch 76/100. Loss: 3.9917941093444824\n",
            "Epoch 77/100. Loss: 3.984869956970215\n",
            "Epoch 78/100. Loss: 3.9932777881622314\n",
            "Epoch 79/100. Loss: 3.9649360179901123\n",
            "Epoch 80/100. Loss: 4.011487007141113\n",
            "Epoch 81/100. Loss: 3.9966814517974854\n",
            "Epoch 82/100. Loss: 4.025592803955078\n",
            "Epoch 83/100. Loss: 3.9647021293640137\n",
            "Epoch 84/100. Loss: 3.9777982234954834\n",
            "Epoch 85/100. Loss: 3.96789813041687\n",
            "Epoch 86/100. Loss: 3.9465999603271484\n",
            "Epoch 87/100. Loss: 3.9896950721740723\n",
            "Epoch 88/100. Loss: 3.9845058917999268\n",
            "Epoch 89/100. Loss: 3.961214065551758\n",
            "Epoch 90/100. Loss: 3.956336736679077\n",
            "Epoch 91/100. Loss: 3.9530322551727295\n",
            "Epoch 92/100. Loss: 3.9789695739746094\n",
            "Epoch 93/100. Loss: 3.943758249282837\n",
            "Epoch 94/100. Loss: 3.942815065383911\n",
            "Epoch 95/100. Loss: 3.941455841064453\n",
            "Epoch 96/100. Loss: 3.9801666736602783\n",
            "Epoch 97/100. Loss: 3.9738609790802\n",
            "Epoch 98/100. Loss: 3.9282875061035156\n",
            "Epoch 99/100. Loss: 3.9400415420532227\n",
            "Epoch 100/100. Loss: 3.949437379837036\n"
          ],
          "name": "stdout"
        }
      ]
    },
    {
      "cell_type": "markdown",
      "metadata": {
        "id": "9HRqJ-3QOBnK",
        "colab_type": "text"
      },
      "source": [
        "Model With three layers"
      ]
    },
    {
      "cell_type": "code",
      "metadata": {
        "id": "VPrf0VKfOFag",
        "colab_type": "code",
        "outputId": "6606cd50-391c-4554-dfc0-052494bb9fa2",
        "colab": {
          "base_uri": "https://localhost:8080/",
          "height": 1000
        }
      },
      "source": [
        "model3 = Autoencoder_three(intermediate_dim=256, original_dim=784)\n",
        "opt = tf.keras.optimizers.Adam(learning_rate=1e-2)\n",
        "\n",
        "train_loop(model3, opt, loss, training_dataset, 100)"
      ],
      "execution_count": 43,
      "outputs": [
        {
          "output_type": "stream",
          "text": [
            "Epoch 1/100. Loss: 17.539499282836914\n",
            "Epoch 2/100. Loss: 8.400200843811035\n",
            "Epoch 3/100. Loss: 7.2221999168396\n",
            "Epoch 4/100. Loss: 6.531782150268555\n",
            "Epoch 5/100. Loss: 6.073426723480225\n",
            "Epoch 6/100. Loss: 5.827795028686523\n",
            "Epoch 7/100. Loss: 5.610796928405762\n",
            "Epoch 8/100. Loss: 5.4598259925842285\n",
            "Epoch 9/100. Loss: 5.4014997482299805\n",
            "Epoch 10/100. Loss: 5.265148162841797\n",
            "Epoch 11/100. Loss: 5.103578090667725\n",
            "Epoch 12/100. Loss: 5.072706699371338\n",
            "Epoch 13/100. Loss: 4.9789862632751465\n",
            "Epoch 14/100. Loss: 4.941458702087402\n",
            "Epoch 15/100. Loss: 4.862505912780762\n",
            "Epoch 16/100. Loss: 4.840092182159424\n",
            "Epoch 17/100. Loss: 4.797975540161133\n",
            "Epoch 18/100. Loss: 4.780895709991455\n",
            "Epoch 19/100. Loss: 4.73939323425293\n",
            "Epoch 20/100. Loss: 4.701489448547363\n",
            "Epoch 21/100. Loss: 4.647136688232422\n",
            "Epoch 22/100. Loss: 4.677433490753174\n",
            "Epoch 23/100. Loss: 4.666482925415039\n",
            "Epoch 24/100. Loss: 4.608821868896484\n",
            "Epoch 25/100. Loss: 4.610088348388672\n",
            "Epoch 26/100. Loss: 4.581707954406738\n",
            "Epoch 27/100. Loss: 4.550459861755371\n",
            "Epoch 28/100. Loss: 4.519195079803467\n",
            "Epoch 29/100. Loss: 4.610322952270508\n",
            "Epoch 30/100. Loss: 4.572597980499268\n",
            "Epoch 31/100. Loss: 4.5324883460998535\n",
            "Epoch 32/100. Loss: 4.547289848327637\n",
            "Epoch 33/100. Loss: 4.460329055786133\n",
            "Epoch 34/100. Loss: 4.491588592529297\n",
            "Epoch 35/100. Loss: 4.497983455657959\n",
            "Epoch 36/100. Loss: 4.471858024597168\n",
            "Epoch 37/100. Loss: 4.4198737144470215\n",
            "Epoch 38/100. Loss: 4.458585739135742\n",
            "Epoch 39/100. Loss: 4.444426536560059\n",
            "Epoch 40/100. Loss: 4.437206745147705\n",
            "Epoch 41/100. Loss: 4.420404434204102\n",
            "Epoch 42/100. Loss: 4.359963417053223\n",
            "Epoch 43/100. Loss: 4.38766622543335\n",
            "Epoch 44/100. Loss: 4.3813910484313965\n",
            "Epoch 45/100. Loss: 4.440298557281494\n",
            "Epoch 46/100. Loss: 4.372224807739258\n",
            "Epoch 47/100. Loss: 4.415693283081055\n",
            "Epoch 48/100. Loss: 4.412168025970459\n",
            "Epoch 49/100. Loss: 4.41065788269043\n",
            "Epoch 50/100. Loss: 4.386440753936768\n",
            "Epoch 51/100. Loss: 4.3955206871032715\n",
            "Epoch 52/100. Loss: 4.313478469848633\n",
            "Epoch 53/100. Loss: 4.40352201461792\n",
            "Epoch 54/100. Loss: 4.330499172210693\n",
            "Epoch 55/100. Loss: 4.389815807342529\n",
            "Epoch 56/100. Loss: 4.341272354125977\n",
            "Epoch 57/100. Loss: 4.338863372802734\n",
            "Epoch 58/100. Loss: 4.346669673919678\n",
            "Epoch 59/100. Loss: 4.351231575012207\n",
            "Epoch 60/100. Loss: 4.378108024597168\n",
            "Epoch 61/100. Loss: 4.352242469787598\n",
            "Epoch 62/100. Loss: 4.348116874694824\n",
            "Epoch 63/100. Loss: 4.386566638946533\n",
            "Epoch 64/100. Loss: 4.3069610595703125\n",
            "Epoch 65/100. Loss: 4.3315324783325195\n",
            "Epoch 66/100. Loss: 4.356485843658447\n",
            "Epoch 67/100. Loss: 4.317434310913086\n",
            "Epoch 68/100. Loss: 4.336191177368164\n",
            "Epoch 69/100. Loss: 4.301363468170166\n",
            "Epoch 70/100. Loss: 4.305450916290283\n",
            "Epoch 71/100. Loss: 4.33402681350708\n",
            "Epoch 72/100. Loss: 4.266679763793945\n",
            "Epoch 73/100. Loss: 4.311074256896973\n",
            "Epoch 74/100. Loss: 4.31188440322876\n",
            "Epoch 75/100. Loss: 4.281649589538574\n",
            "Epoch 76/100. Loss: 4.317579746246338\n",
            "Epoch 77/100. Loss: 4.296760082244873\n",
            "Epoch 78/100. Loss: 4.383905410766602\n",
            "Epoch 79/100. Loss: 4.313987731933594\n",
            "Epoch 80/100. Loss: 4.301729202270508\n",
            "Epoch 81/100. Loss: 4.311963081359863\n",
            "Epoch 82/100. Loss: 4.278383731842041\n",
            "Epoch 83/100. Loss: 4.274404525756836\n",
            "Epoch 84/100. Loss: 4.339291095733643\n",
            "Epoch 85/100. Loss: 4.2980875968933105\n",
            "Epoch 86/100. Loss: 4.272067070007324\n",
            "Epoch 87/100. Loss: 4.294326305389404\n",
            "Epoch 88/100. Loss: 4.396996021270752\n",
            "Epoch 89/100. Loss: 4.288061618804932\n",
            "Epoch 90/100. Loss: 4.285738945007324\n",
            "Epoch 91/100. Loss: 4.2923736572265625\n",
            "Epoch 92/100. Loss: 4.272940635681152\n",
            "Epoch 93/100. Loss: 4.25725793838501\n",
            "Epoch 94/100. Loss: 4.344943046569824\n",
            "Epoch 95/100. Loss: 4.303728103637695\n",
            "Epoch 96/100. Loss: 4.253002166748047\n",
            "Epoch 97/100. Loss: 4.254223823547363\n",
            "Epoch 98/100. Loss: 4.25291633605957\n",
            "Epoch 99/100. Loss: 4.340054988861084\n",
            "Epoch 100/100. Loss: 4.257711887359619\n"
          ],
          "name": "stdout"
        }
      ]
    },
    {
      "cell_type": "markdown",
      "metadata": {
        "id": "PCOtpF0KtK2c",
        "colab_type": "text"
      },
      "source": [
        "**Predictions**"
      ]
    },
    {
      "cell_type": "markdown",
      "metadata": {
        "id": "3VWyQpMkuqB5",
        "colab_type": "text"
      },
      "source": [
        "Predicton for 1 hidden layer model"
      ]
    },
    {
      "cell_type": "code",
      "metadata": {
        "id": "fQPQFwCKtPZm",
        "colab_type": "code",
        "outputId": "f4a17238-a91d-4985-84b5-d0aaa4de4f19",
        "colab": {
          "base_uri": "https://localhost:8080/",
          "height": 248
        }
      },
      "source": [
        "number = 10  # how many digits we will display\n",
        "plt.figure(figsize=(20, 4))\n",
        "for index in range(number):\n",
        "    # display original\n",
        "    ax = plt.subplot(2, number, index + 1)\n",
        "    plt.imshow(x_test[index].reshape(28, 28))\n",
        "    plt.gray()\n",
        "    ax.get_xaxis().set_visible(False)\n",
        "    ax.get_yaxis().set_visible(False)\n",
        "\n",
        "    # display reconstruction\n",
        "    ax = plt.subplot(2, number, index + 1 + number)\n",
        "    plt.imshow(model(x_test)[index].numpy().reshape(28, 28))\n",
        "    plt.gray()\n",
        "    ax.get_xaxis().set_visible(False)\n",
        "    ax.get_yaxis().set_visible(False)\n",
        "plt.show()"
      ],
      "execution_count": 18,
      "outputs": [
        {
          "output_type": "display_data",
          "data": {
            "image/png": "[encoded data removed]",
            "text/plain": [
              "<Figure size 1440x288 with 20 Axes>"
            ]
          },
          "metadata": {
            "tags": [],
            "needs_background": "light"
          }
        }
      ]
    },
    {
      "cell_type": "code",
      "metadata": {
        "id": "oNO28aLQfixh",
        "colab_type": "code",
        "colab": {
          "base_uri": "https://localhost:8080/",
          "height": 279
        },
        "outputId": "2f910eeb-ab7e-4fdc-c5e9-179796b7d458"
      },
      "source": [
        "plt.plot(range(100), model.loss)\n",
        "plt.xlabel('Epochs')\n",
        "plt.ylabel('Loss')\n",
        "plt.show()"
      ],
      "execution_count": 26,
      "outputs": [
        {
          "output_type": "display_data",
          "data": {
            "image/png": "[encoded data removed]",
            "text/plain": [
              "<Figure size 432x288 with 1 Axes>"
            ]
          },
          "metadata": {
            "tags": [],
            "needs_background": "light"
          }
        }
      ]
    },
    {
      "cell_type": "markdown",
      "metadata": {
        "id": "YpSFofUBuy0W",
        "colab_type": "text"
      },
      "source": [
        "Prediction for 2 hidden layer model"
      ]
    },
    {
      "cell_type": "code",
      "metadata": {
        "id": "Tz1ony8Tu2Rd",
        "colab_type": "code",
        "outputId": "8955bbc6-3f62-461f-9a43-60c39b745443",
        "colab": {
          "base_uri": "https://localhost:8080/",
          "height": 248
        }
      },
      "source": [
        "number = 10  # how many digits we will display\n",
        "plt.figure(figsize=(20, 4))\n",
        "for index in range(number):\n",
        "    # display original\n",
        "    ax = plt.subplot(2, number, index + 1)\n",
        "    plt.imshow(x_test[index].reshape(28, 28))\n",
        "    plt.gray()\n",
        "    ax.get_xaxis().set_visible(False)\n",
        "    ax.get_yaxis().set_visible(False)\n",
        "\n",
        "    # display reconstruction\n",
        "    ax = plt.subplot(2, number, index + 1 + number)\n",
        "    plt.imshow(model2(x_test)[index].numpy().reshape(28, 28))\n",
        "    plt.gray()\n",
        "    ax.get_xaxis().set_visible(False)\n",
        "    ax.get_yaxis().set_visible(False)\n",
        "plt.show()"
      ],
      "execution_count": 19,
      "outputs": [
        {
          "output_type": "display_data",
          "data": {
            "image/png": "[encoded data removed]",
            "text/plain": [
              "<Figure size 1440x288 with 20 Axes>"
            ]
          },
          "metadata": {
            "tags": [],
            "needs_background": "light"
          }
        }
      ]
    },
    {
      "cell_type": "code",
      "metadata": {
        "id": "7CZj9vz7fsbV",
        "colab_type": "code",
        "colab": {
          "base_uri": "https://localhost:8080/",
          "height": 279
        },
        "outputId": "a69677e8-8314-4094-b26e-1ff7ce52740b"
      },
      "source": [
        "plt.plot(range(100), model2.loss)\n",
        "plt.xlabel('Epochs')\n",
        "plt.ylabel('Loss')\n",
        "plt.show()"
      ],
      "execution_count": 28,
      "outputs": [
        {
          "output_type": "display_data",
          "data": {
            "image/png": "[encoded data removed]",
            "text/plain": [
              "<Figure size 432x288 with 1 Axes>"
            ]
          },
          "metadata": {
            "tags": [],
            "needs_background": "light"
          }
        }
      ]
    },
    {
      "cell_type": "markdown",
      "metadata": {
        "id": "k0fv0grru6e3",
        "colab_type": "text"
      },
      "source": [
        "Predictions for 3 hidden layer Model"
      ]
    },
    {
      "cell_type": "code",
      "metadata": {
        "id": "l8pquHE6u9tg",
        "colab_type": "code",
        "outputId": "e6c79805-ac88-47a4-d515-f3d65fd3e80a",
        "colab": {
          "base_uri": "https://localhost:8080/",
          "height": 248
        }
      },
      "source": [
        "number = 10  # how many digits we will display\n",
        "plt.figure(figsize=(20, 4))\n",
        "for index in range(number):\n",
        "    # display original\n",
        "    ax = plt.subplot(2, number, index + 1)\n",
        "    plt.imshow(x_test[index].reshape(28, 28))\n",
        "    plt.gray()\n",
        "    ax.get_xaxis().set_visible(False)\n",
        "    ax.get_yaxis().set_visible(False)\n",
        "\n",
        "    # display reconstruction\n",
        "    ax = plt.subplot(2, number, index + 1 + number)\n",
        "    plt.imshow(model3(x_test)[index].numpy().reshape(28, 28))\n",
        "    plt.gray()\n",
        "    ax.get_xaxis().set_visible(False)\n",
        "    ax.get_yaxis().set_visible(False)\n",
        "plt.show()"
      ],
      "execution_count": 20,
      "outputs": [
        {
          "output_type": "display_data",
          "data": {
            "image/png": "[encoded data removed]",
            "text/plain": [
              "<Figure size 1440x288 with 20 Axes>"
            ]
          },
          "metadata": {
            "tags": [],
            "needs_background": "light"
          }
        }
      ]
    },
    {
      "cell_type": "code",
      "metadata": {
        "id": "snUBWJBjfyZe",
        "colab_type": "code",
        "colab": {
          "base_uri": "https://localhost:8080/",
          "height": 279
        },
        "outputId": "cee397ea-9bfc-49a4-eff7-ae355f62b770"
      },
      "source": [
        "plt.plot(range(100), model3.loss)\n",
        "plt.xlabel('Epochs')\n",
        "plt.ylabel('Loss')\n",
        "plt.show()"
      ],
      "execution_count": 29,
      "outputs": [
        {
          "output_type": "display_data",
          "data": {
            "image/png": "[encoded data removed]",
            "text/plain": [
              "<Figure size 432x288 with 1 Axes>"
            ]
          },
          "metadata": {
            "tags": [],
            "needs_background": "light"
          }
        }
      ]
    },
    {
      "cell_type": "markdown",
      "metadata": {
        "id": "eTsLELySwSCn",
        "colab_type": "text"
      },
      "source": [
        "From the Model Loss and Predictions, it can be noticed that the model with 3 hidden layer is performing the best. Since we are reducing the size of the layer. Since the dimensions decrease the data loss while decoding is also more. Thus, accuracy is better for 1 hidden layer model in this case."
      ]
    },
    {
      "cell_type": "markdown",
      "metadata": {
        "id": "FMfDC7XBzPUt",
        "colab_type": "text"
      },
      "source": [
        "## **CNN models**"
      ]
    },
    {
      "cell_type": "markdown",
      "metadata": {
        "id": "3NbP33E_zgxk",
        "colab_type": "text"
      },
      "source": [
        "Prepare Model"
      ]
    },
    {
      "cell_type": "code",
      "metadata": {
        "id": "iTYWruHx0YMr",
        "colab_type": "code",
        "colab": {}
      },
      "source": [
        "input_img = tf.keras.layers.Input(shape=(28, 28, 1)) # adapt this if using `channels_first` image data format\n",
        "\n",
        "x = tf.keras.layers.Conv2D(16, (3, 3), activation='relu', padding='same')(input_img)\n",
        "x = tf.keras.layers.MaxPooling2D((2, 2), padding='same')(x)\n",
        "x = tf.keras.layers.Conv2D(8, (3, 3), activation='relu', padding='same')(x)\n",
        "x = tf.keras.layers.MaxPooling2D((2, 2), padding='same')(x)\n",
        "x = tf.keras.layers.Conv2D(8, (3, 3), activation='relu', padding='same')(x)\n",
        "encoded = tf.keras.layers.MaxPooling2D((2, 2), padding='same')(x)\n",
        "\n",
        "# at this point the representation is (4, 4, 8) i.e. 128-dimensional\n",
        "\n",
        "x = tf.keras.layers.Conv2D(8, (3, 3), activation='relu', padding='same')(encoded)\n",
        "x = tf.keras.layers.UpSampling2D((2, 2))(x)\n",
        "x = tf.keras.layers.Conv2D(8, (3, 3), activation='relu', padding='same')(x)\n",
        "x = tf.keras.layers.UpSampling2D((2, 2))(x)\n",
        "x = tf.keras.layers.Conv2D(16, (3, 3), activation='relu')(x)\n",
        "x = tf.keras.layers.UpSampling2D((2, 2))(x)\n",
        "decoded = tf.keras.layers.Conv2D(1, (3, 3), activation='sigmoid', padding='same')(x)\n",
        "\n",
        "autoencoder = tf.keras.models.Model(input_img, decoded)\n",
        "autoencoder.compile(optimizer='adadelta', loss='mse')"
      ],
      "execution_count": 0,
      "outputs": []
    },
    {
      "cell_type": "markdown",
      "metadata": {
        "id": "S4a8mIRd0hTK",
        "colab_type": "text"
      },
      "source": [
        "Prepare Data Set"
      ]
    },
    {
      "cell_type": "code",
      "metadata": {
        "id": "-bEpWlEH0dmN",
        "colab_type": "code",
        "colab": {}
      },
      "source": [
        "# to train this model we will with original MNIST digits with shape (samples, 3, 28, 28) and we will just normalize pixel values between 0 and 1\n",
        "# (x_train, _), (x_test, _) = load_data('../input/mnist.npz')\n",
        "from tensorflow.keras.datasets import mnist\n",
        "(x_train, _), (x_test, _) = mnist.load_data()\n",
        "\n",
        "x_train = x_train.astype('float32') / 255.\n",
        "x_test = x_test.astype('float32') / 255.\n",
        "x_train = np.reshape(x_train, (len(x_train), 28, 28, 1))\n",
        "x_test = np.reshape(x_test, (len(x_test), 28, 28, 1))"
      ],
      "execution_count": 0,
      "outputs": []
    },
    {
      "cell_type": "markdown",
      "metadata": {
        "id": "TOYDp5j70mFv",
        "colab_type": "text"
      },
      "source": [
        "Fit Model"
      ]
    },
    {
      "cell_type": "code",
      "metadata": {
        "id": "VZ9mfksA0ngc",
        "colab_type": "code",
        "colab": {
          "base_uri": "https://localhost:8080/",
          "height": 1000
        },
        "outputId": "0cfb8b53-e336-4b06-9789-8a8ee4e2dafa"
      },
      "source": [
        "autoencoder.fit(x_train, x_train, epochs=50, batch_size=128, \n",
        "                shuffle=True, validation_data=(x_test, x_test), \n",
        "                callbacks=[tf.keras.callbacks.TensorBoard(log_dir='./tmp/autoencoder')])"
      ],
      "execution_count": 38,
      "outputs": [
        {
          "output_type": "stream",
          "text": [
            "Epoch 1/50\n",
            "469/469 [==============================] - 3s 6ms/step - loss: 0.2312 - val_loss: 0.2308\n",
            "Epoch 2/50\n",
            "469/469 [==============================] - 2s 5ms/step - loss: 0.2301 - val_loss: 0.2295\n",
            "Epoch 3/50\n",
            "469/469 [==============================] - 2s 5ms/step - loss: 0.2285 - val_loss: 0.2276\n",
            "Epoch 4/50\n",
            "469/469 [==============================] - 2s 5ms/step - loss: 0.2260 - val_loss: 0.2245\n",
            "Epoch 5/50\n",
            "469/469 [==============================] - 3s 5ms/step - loss: 0.2219 - val_loss: 0.2192\n",
            "Epoch 6/50\n",
            "469/469 [==============================] - 3s 5ms/step - loss: 0.2144 - val_loss: 0.2089\n",
            "Epoch 7/50\n",
            "469/469 [==============================] - 3s 5ms/step - loss: 0.1990 - val_loss: 0.1868\n",
            "Epoch 8/50\n",
            "469/469 [==============================] - 2s 5ms/step - loss: 0.1678 - val_loss: 0.1494\n",
            "Epoch 9/50\n",
            "469/469 [==============================] - 2s 5ms/step - loss: 0.1353 - val_loss: 0.1280\n",
            "Epoch 10/50\n",
            "469/469 [==============================] - 3s 5ms/step - loss: 0.1229 - val_loss: 0.1222\n",
            "Epoch 11/50\n",
            "469/469 [==============================] - 3s 5ms/step - loss: 0.1192 - val_loss: 0.1201\n",
            "Epoch 12/50\n",
            "469/469 [==============================] - 2s 5ms/step - loss: 0.1175 - val_loss: 0.1190\n",
            "Epoch 13/50\n",
            "469/469 [==============================] - 3s 5ms/step - loss: 0.1166 - val_loss: 0.1182\n",
            "Epoch 14/50\n",
            "469/469 [==============================] - 3s 5ms/step - loss: 0.1159 - val_loss: 0.1177\n",
            "Epoch 15/50\n",
            "469/469 [==============================] - 3s 5ms/step - loss: 0.1153 - val_loss: 0.1172\n",
            "Epoch 16/50\n",
            "469/469 [==============================] - 3s 5ms/step - loss: 0.1149 - val_loss: 0.1168\n",
            "Epoch 17/50\n",
            "469/469 [==============================] - 3s 5ms/step - loss: 0.1145 - val_loss: 0.1164\n",
            "Epoch 18/50\n",
            "469/469 [==============================] - 2s 5ms/step - loss: 0.1141 - val_loss: 0.1160\n",
            "Epoch 19/50\n",
            "469/469 [==============================] - 2s 5ms/step - loss: 0.1137 - val_loss: 0.1156\n",
            "Epoch 20/50\n",
            "469/469 [==============================] - 2s 5ms/step - loss: 0.1133 - val_loss: 0.1152\n",
            "Epoch 21/50\n",
            "469/469 [==============================] - 2s 5ms/step - loss: 0.1129 - val_loss: 0.1147\n",
            "Epoch 22/50\n",
            "469/469 [==============================] - 2s 5ms/step - loss: 0.1124 - val_loss: 0.1142\n",
            "Epoch 23/50\n",
            "469/469 [==============================] - 2s 5ms/step - loss: 0.1119 - val_loss: 0.1137\n",
            "Epoch 24/50\n",
            "469/469 [==============================] - 3s 5ms/step - loss: 0.1114 - val_loss: 0.1130\n",
            "Epoch 25/50\n",
            "469/469 [==============================] - 2s 5ms/step - loss: 0.1107 - val_loss: 0.1123\n",
            "Epoch 26/50\n",
            "469/469 [==============================] - 2s 5ms/step - loss: 0.1100 - val_loss: 0.1115\n",
            "Epoch 27/50\n",
            "469/469 [==============================] - 3s 5ms/step - loss: 0.1092 - val_loss: 0.1107\n",
            "Epoch 28/50\n",
            "469/469 [==============================] - 2s 5ms/step - loss: 0.1084 - val_loss: 0.1098\n",
            "Epoch 29/50\n",
            "469/469 [==============================] - 3s 5ms/step - loss: 0.1075 - val_loss: 0.1088\n",
            "Epoch 30/50\n",
            "469/469 [==============================] - 3s 5ms/step - loss: 0.1065 - val_loss: 0.1077\n",
            "Epoch 31/50\n",
            "469/469 [==============================] - 2s 5ms/step - loss: 0.1053 - val_loss: 0.1064\n",
            "Epoch 32/50\n",
            "469/469 [==============================] - 3s 5ms/step - loss: 0.1040 - val_loss: 0.1049\n",
            "Epoch 33/50\n",
            "469/469 [==============================] - 3s 5ms/step - loss: 0.1025 - val_loss: 0.1032\n",
            "Epoch 34/50\n",
            "469/469 [==============================] - 2s 5ms/step - loss: 0.1007 - val_loss: 0.1011\n",
            "Epoch 35/50\n",
            "469/469 [==============================] - 2s 5ms/step - loss: 0.0984 - val_loss: 0.0985\n",
            "Epoch 36/50\n",
            "469/469 [==============================] - 2s 5ms/step - loss: 0.0955 - val_loss: 0.0951\n",
            "Epoch 37/50\n",
            "469/469 [==============================] - 3s 5ms/step - loss: 0.0920 - val_loss: 0.0912\n",
            "Epoch 38/50\n",
            "469/469 [==============================] - 3s 5ms/step - loss: 0.0884 - val_loss: 0.0878\n",
            "Epoch 39/50\n",
            "469/469 [==============================] - 3s 5ms/step - loss: 0.0853 - val_loss: 0.0850\n",
            "Epoch 40/50\n",
            "469/469 [==============================] - 2s 5ms/step - loss: 0.0828 - val_loss: 0.0827\n",
            "Epoch 41/50\n",
            "469/469 [==============================] - 2s 5ms/step - loss: 0.0806 - val_loss: 0.0806\n",
            "Epoch 42/50\n",
            "469/469 [==============================] - 3s 5ms/step - loss: 0.0787 - val_loss: 0.0787\n",
            "Epoch 43/50\n",
            "469/469 [==============================] - 3s 5ms/step - loss: 0.0769 - val_loss: 0.0770\n",
            "Epoch 44/50\n",
            "469/469 [==============================] - 2s 5ms/step - loss: 0.0752 - val_loss: 0.0753\n",
            "Epoch 45/50\n",
            "469/469 [==============================] - 2s 5ms/step - loss: 0.0736 - val_loss: 0.0737\n",
            "Epoch 46/50\n",
            "469/469 [==============================] - 2s 5ms/step - loss: 0.0722 - val_loss: 0.0722\n",
            "Epoch 47/50\n",
            "469/469 [==============================] - 3s 5ms/step - loss: 0.0708 - val_loss: 0.0709\n",
            "Epoch 48/50\n",
            "469/469 [==============================] - 3s 6ms/step - loss: 0.0695 - val_loss: 0.0696\n",
            "Epoch 49/50\n",
            "469/469 [==============================] - 3s 6ms/step - loss: 0.0683 - val_loss: 0.0684\n",
            "Epoch 50/50\n",
            "469/469 [==============================] - 3s 5ms/step - loss: 0.0672 - val_loss: 0.0674\n"
          ],
          "name": "stdout"
        },
        {
          "output_type": "execute_result",
          "data": {
            "text/plain": [
              "<tensorflow.python.keras.callbacks.History at 0x7f3ab611d2b0>"
            ]
          },
          "metadata": {
            "tags": []
          },
          "execution_count": 38
        }
      ]
    },
    {
      "cell_type": "code",
      "metadata": {
        "id": "ehjWQJun2PnF",
        "colab_type": "code",
        "colab": {
          "base_uri": "https://localhost:8080/",
          "height": 248
        },
        "outputId": "c411bb44-ddef-48f9-c2e5-f5c1f95839aa"
      },
      "source": [
        "decoded_imgs = autoencoder.predict(x_test)\n",
        "n = 10\n",
        "plt.figure(figsize=(20, 4))\n",
        "for i in range(n):\n",
        "    \n",
        "    # original\n",
        "    ax = plt.subplot(2, n, i+1)\n",
        "    plt.imshow(x_test[i].reshape(28, 28))\n",
        "    plt.gray()\n",
        "    ax.get_xaxis().set_visible(False)\n",
        "    ax.get_yaxis().set_visible(False)\n",
        "\n",
        "    # reconstruction\n",
        "    ax = plt.subplot(2, n, i + 1 + n)\n",
        "    plt.imshow(decoded_imgs[i].reshape(28, 28))\n",
        "    plt.gray()\n",
        "    ax.get_xaxis().set_visible(False)\n",
        "    ax.get_yaxis().set_visible(False)\n",
        "plt.show()"
      ],
      "execution_count": 40,
      "outputs": [
        {
          "output_type": "display_data",
          "data": {
            "image/png": "[encoded data removed]",
            "text/plain": [
              "<Figure size 1440x288 with 20 Axes>"
            ]
          },
          "metadata": {
            "tags": [],
            "needs_background": "light"
          }
        }
      ]
    }
  ]
}