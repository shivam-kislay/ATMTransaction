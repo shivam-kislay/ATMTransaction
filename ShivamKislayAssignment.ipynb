{
  "nbformat": 4,
  "nbformat_minor": 0,
  "metadata": {
    "colab": {
      "name": "ShivamKislayAssignment.ipynb",
      "provenance": [],
      "collapsed_sections": [],
      "authorship_tag": "ABX9TyMnxhJSZDON++OE1g5mwviy",
      "include_colab_link": true
    },
    "kernelspec": {
      "name": "python3",
      "display_name": "Python 3"
    },
    "accelerator": "GPU"
  },
  "cells": [
    {
      "cell_type": "markdown",
      "metadata": {
        "id": "view-in-github",
        "colab_type": "text"
      },
      "source": [
        "<a href=\"https://colab.research.google.com/github/shivam-kislay/ATMTransaction/blob/master/ShivamKislayAssignment.ipynb\" target=\"_parent\"><img src=\"https://colab.research.google.com/assets/colab-badge.svg\" alt=\"Open In Colab\"/></a>"
      ]
    },
    {
      "cell_type": "markdown",
      "metadata": {
        "id": "IAqboCY2I_lo",
        "colab_type": "text"
      },
      "source": [
        "**Install Libraries**"
      ]
    },
    {
      "cell_type": "code",
      "metadata": {
        "id": "NONLfltvI-gJ",
        "colab_type": "code",
        "outputId": "afa728a2-7300-40b6-884a-9e6a8f2a6b75",
        "colab": {
          "base_uri": "https://localhost:8080/",
          "height": 51
        }
      },
      "source": [
        "from __future__ import absolute_import, division, print_function, unicode_literals\n",
        "\n",
        "#try:\n",
        "  # The %tensorflow_version magic only works in colab.\n",
        "  # tensorflow_version 2.x\n",
        "#except Exception:\n",
        "#  pass\n",
        "import numpy as np\n",
        "import matplotlib.pyplot as plt\n",
        "import tensorflow as tf\n",
        "\n",
        "from tensorflow.keras.datasets import mnist\n",
        "\n",
        "print('TensorFlow version:', tf.__version__)\n",
        "print('Is Executing Eagerly?', tf.executing_eagerly())"
      ],
      "execution_count": 1,
      "outputs": [
        {
          "output_type": "stream",
          "text": [
            "TensorFlow version: 2.2.0-rc2\n",
            "Is Executing Eagerly? True\n"
          ],
          "name": "stdout"
        }
      ]
    },
    {
      "cell_type": "markdown",
      "metadata": {
        "id": "pYLYacSwzJHQ",
        "colab_type": "text"
      },
      "source": [
        "## **Dense Layer Models**"
      ]
    },
    {
      "cell_type": "markdown",
      "metadata": {
        "id": "7q5KjHEAJUgL",
        "colab_type": "text"
      },
      "source": [
        "**Encoder**"
      ]
    },
    {
      "cell_type": "markdown",
      "metadata": {
        "id": "KW8v7tQdJg20",
        "colab_type": "text"
      },
      "source": [
        "Single Hidden Layer Encoder"
      ]
    },
    {
      "cell_type": "code",
      "metadata": {
        "id": "FQW_-y0aJYRt",
        "colab_type": "code",
        "colab": {}
      },
      "source": [
        "class Encoder(tf.keras.layers.Layer):\n",
        "    def __init__(self, intermediate_dim):\n",
        "        super(Encoder, self).__init__()\n",
        "        self.hidden_layer = tf.keras.layers.Dense(units=intermediate_dim, activation=tf.nn.relu)\n",
        "        self.output_layer = tf.keras.layers.Dense(units=intermediate_dim, activation=tf.nn.relu)\n",
        "    \n",
        "    def call(self, input_features):\n",
        "        activation = self.hidden_layer(input_features)\n",
        "        return self.output_layer(activation)"
      ],
      "execution_count": 0,
      "outputs": []
    },
    {
      "cell_type": "markdown",
      "metadata": {
        "id": "ZZnvwdNFJokw",
        "colab_type": "text"
      },
      "source": [
        "Two Hidden Layer Encoder"
      ]
    },
    {
      "cell_type": "code",
      "metadata": {
        "id": "evUmw3HuJsWc",
        "colab_type": "code",
        "colab": {}
      },
      "source": [
        "class Encoder_two(tf.keras.layers.Layer):\n",
        "    def __init__(self, intermediate_dim):\n",
        "        super(Encoder_two, self).__init__()\n",
        "        self.hidden_layer = tf.keras.layers.Dense(units=intermediate_dim, activation=tf.nn.relu)\n",
        "        self.hidden_layer2 = tf.keras.layers.Dense(units= (intermediate_dim / 2), activation=tf.nn.relu)\n",
        "        self.output_layer = tf.keras.layers.Dense(units=(intermediate_dim / 2), activation=tf.nn.relu)\n",
        "    \n",
        "    def call(self, input_features):\n",
        "        layer1 = self.hidden_layer(input_features)\n",
        "        activation = self.hidden_layer2(layer1)\n",
        "        return self.output_layer(activation)"
      ],
      "execution_count": 0,
      "outputs": []
    },
    {
      "cell_type": "markdown",
      "metadata": {
        "id": "155bvgmNOJuD",
        "colab_type": "text"
      },
      "source": [
        "Three Hidden layer Encoder"
      ]
    },
    {
      "cell_type": "code",
      "metadata": {
        "id": "iz57Y4DgOM8H",
        "colab_type": "code",
        "colab": {}
      },
      "source": [
        "class Encoder_three(tf.keras.layers.Layer):\n",
        "    def __init__(self, intermediate_dim):\n",
        "        super(Encoder_three, self).__init__()\n",
        "        self.hidden_layer = tf.keras.layers.Dense(units=intermediate_dim, activation=tf.nn.relu)\n",
        "        self.hidden_layer2 = tf.keras.layers.Dense(units= (intermediate_dim / 2), activation=tf.nn.relu)\n",
        "        self.hidden_layer3 = tf.keras.layers.Dense(units= ((intermediate_dim / 2) / 2), activation=tf.nn.relu)\n",
        "        self.output_layer = tf.keras.layers.Dense(units= ((intermediate_dim / 2) / 2), activation=tf.nn.relu)\n",
        "    \n",
        "    def call(self, input_features):\n",
        "        layer1 = self.hidden_layer(input_features)\n",
        "        layer2 = self.hidden_layer2(layer1)\n",
        "        activation = self.hidden_layer3(layer2)\n",
        "        return self.output_layer(activation)"
      ],
      "execution_count": 0,
      "outputs": []
    },
    {
      "cell_type": "markdown",
      "metadata": {
        "id": "yR1DoWToJ9Jt",
        "colab_type": "text"
      },
      "source": [
        "**Decoder**"
      ]
    },
    {
      "cell_type": "markdown",
      "metadata": {
        "id": "AgjkVtXOKCtf",
        "colab_type": "text"
      },
      "source": [
        "Single Layer Decoder"
      ]
    },
    {
      "cell_type": "code",
      "metadata": {
        "id": "4RhH2wWXKAuE",
        "colab_type": "code",
        "colab": {}
      },
      "source": [
        "class Decoder(tf.keras.layers.Layer):\n",
        "    def __init__(self, intermediate_dim, original_dim):\n",
        "        super(Decoder, self).__init__()\n",
        "        self.hidden_layer = tf.keras.layers.Dense(units=intermediate_dim, activation=tf.nn.relu)\n",
        "        self.output_layer = tf.keras.layers.Dense(units=original_dim, activation=tf.nn.relu)\n",
        "  \n",
        "    def call(self, code):\n",
        "        activation = self.hidden_layer(code)\n",
        "        return self.output_layer(activation)"
      ],
      "execution_count": 0,
      "outputs": []
    },
    {
      "cell_type": "markdown",
      "metadata": {
        "id": "Wc3COHStKJCV",
        "colab_type": "text"
      },
      "source": [
        "Double Layer Decoder"
      ]
    },
    {
      "cell_type": "code",
      "metadata": {
        "id": "NZDlCAsEKLh_",
        "colab_type": "code",
        "colab": {}
      },
      "source": [
        "class Decoder_two(tf.keras.layers.Layer):\n",
        "    def __init__(self, intermediate_dim, original_dim):\n",
        "        super(Decoder_two, self).__init__()\n",
        "        # self.hidden_layer = tf.keras.layers.Dense(units=(intermediate_dim / 2), activation=tf.nn.relu)\n",
        "        self.hidden_layer2 = tf.keras.layers.Dense(units= intermediate_dim, activation=tf.nn.relu)\n",
        "        self.output_layer = tf.keras.layers.Dense(units=original_dim, activation=tf.nn.relu)\n",
        "  \n",
        "    def call(self, code):\n",
        "        # layer1 = self.hidden_layer(code)\n",
        "        activation = self.hidden_layer2(code)\n",
        "        return self.output_layer(activation)"
      ],
      "execution_count": 0,
      "outputs": []
    },
    {
      "cell_type": "markdown",
      "metadata": {
        "id": "wyrQcyPOOX3G",
        "colab_type": "text"
      },
      "source": [
        "Three layer Decoder"
      ]
    },
    {
      "cell_type": "code",
      "metadata": {
        "id": "_PzRCsXcObUu",
        "colab_type": "code",
        "colab": {}
      },
      "source": [
        "class Decoder_three(tf.keras.layers.Layer):\n",
        "    def __init__(self, intermediate_dim, original_dim):\n",
        "        super(Decoder_three, self).__init__()\n",
        "        # self.hidden_layer = tf.keras.layers.Dense(units= ((intermediate_dim / 2) / 2), activation=tf.nn.relu)\n",
        "        self.hidden_layer2 = tf.keras.layers.Dense(units= (intermediate_dim / 2), activation=tf.nn.relu)\n",
        "        self.hidden_layer3 = tf.keras.layers.Dense(units= intermediate_dim, activation=tf.nn.relu)\n",
        "        self.output_layer = tf.keras.layers.Dense(units=original_dim, activation=tf.nn.relu)\n",
        "  \n",
        "    def call(self, code):\n",
        "        #layer1 = self.hidden_layer(code)\n",
        "        layer2 = self.hidden_layer2(code)\n",
        "        activation = self.hidden_layer3(layer2)\n",
        "        return self.output_layer(activation)"
      ],
      "execution_count": 0,
      "outputs": []
    },
    {
      "cell_type": "markdown",
      "metadata": {
        "id": "OIrVEkOxKXk_",
        "colab_type": "text"
      },
      "source": [
        "**Auto Encoder Model**\n",
        "Total of 3 dense layer models are made with 1, 2 and 3 hidden layers repectively."
      ]
    },
    {
      "cell_type": "markdown",
      "metadata": {
        "id": "zM_MFpJ2KdSE",
        "colab_type": "text"
      },
      "source": [
        "Auto Encoder Model for 1 layer"
      ]
    },
    {
      "cell_type": "code",
      "metadata": {
        "id": "ig2w7z0PKk43",
        "colab_type": "code",
        "colab": {}
      },
      "source": [
        "class Autoencoder(tf.keras.Model):\n",
        "  def __init__(self, intermediate_dim, original_dim):\n",
        "    super(Autoencoder, self).__init__()\n",
        "    self.loss = []\n",
        "    self.encoder = Encoder(intermediate_dim=intermediate_dim)\n",
        "    self.decoder = Decoder(intermediate_dim=intermediate_dim, original_dim=original_dim)\n",
        "\n",
        "  def call(self, input_features):\n",
        "    code = self.encoder(input_features)\n",
        "    reconstructed = self.decoder(code)\n",
        "    return reconstructed"
      ],
      "execution_count": 0,
      "outputs": []
    },
    {
      "cell_type": "markdown",
      "metadata": {
        "id": "SX9denbdLKQl",
        "colab_type": "text"
      },
      "source": [
        "Auto Encoder Model for 2 layers"
      ]
    },
    {
      "cell_type": "code",
      "metadata": {
        "id": "IS0ZvEgTLP0e",
        "colab_type": "code",
        "colab": {}
      },
      "source": [
        "class Autoencoder_two(tf.keras.Model):\n",
        "  def __init__(self, intermediate_dim, original_dim):\n",
        "    super(Autoencoder_two, self).__init__()\n",
        "    self.loss = []\n",
        "    self.encoder = Encoder_two(intermediate_dim=intermediate_dim)\n",
        "    self.decoder = Decoder_two(intermediate_dim=intermediate_dim, original_dim=original_dim)\n",
        "\n",
        "  def call(self, input_features):\n",
        "    code = self.encoder(input_features)\n",
        "    reconstructed = self.decoder(code)\n",
        "    return reconstructed"
      ],
      "execution_count": 0,
      "outputs": []
    },
    {
      "cell_type": "markdown",
      "metadata": {
        "id": "3iURW2yYO6Xx",
        "colab_type": "text"
      },
      "source": [
        "Auto Encoder for 3 layers"
      ]
    },
    {
      "cell_type": "code",
      "metadata": {
        "id": "3knKniNVO_a-",
        "colab_type": "code",
        "colab": {}
      },
      "source": [
        "class Autoencoder_three(tf.keras.Model):\n",
        "  def __init__(self, intermediate_dim, original_dim):\n",
        "    super(Autoencoder_three, self).__init__()\n",
        "    self.loss = []\n",
        "    self.encoder = Encoder_three(intermediate_dim=intermediate_dim)\n",
        "    self.decoder = Decoder_three(intermediate_dim=intermediate_dim, original_dim=original_dim)\n",
        "\n",
        "  def call(self, input_features):\n",
        "    code = self.encoder(input_features)\n",
        "    reconstructed = self.decoder(code)\n",
        "    return reconstructed"
      ],
      "execution_count": 0,
      "outputs": []
    },
    {
      "cell_type": "markdown",
      "metadata": {
        "id": "nagaCu8OLuPu",
        "colab_type": "text"
      },
      "source": [
        "**Loss Function**"
      ]
    },
    {
      "cell_type": "code",
      "metadata": {
        "id": "tjW1z1eOL0kJ",
        "colab_type": "code",
        "colab": {}
      },
      "source": [
        "def loss(preds, real):\n",
        "  return tf.reduce_mean(tf.square(tf.subtract(preds, real)))"
      ],
      "execution_count": 0,
      "outputs": []
    },
    {
      "cell_type": "markdown",
      "metadata": {
        "id": "zvvZYn-xMYvX",
        "colab_type": "text"
      },
      "source": [
        "**Forward Pass Optimization**"
      ]
    },
    {
      "cell_type": "code",
      "metadata": {
        "id": "3j2TTLoJMgIV",
        "colab_type": "code",
        "colab": {}
      },
      "source": [
        "def train(loss, model, opt, original):\n",
        "  with tf.GradientTape() as tape:\n",
        "    preds = model(original)\n",
        "    reconstruction_error = loss(preds, original)\n",
        "  gradients = tape.gradient(reconstruction_error, model.trainable_variables)\n",
        "  gradient_variables = zip(gradients, model.trainable_variables)\n",
        "  opt.apply_gradients(gradient_variables)\n",
        "  \n",
        "  return reconstruction_error"
      ],
      "execution_count": 0,
      "outputs": []
    },
    {
      "cell_type": "markdown",
      "metadata": {
        "id": "zAGkR9FcMp3u",
        "colab_type": "text"
      },
      "source": [
        "**Training Loop**"
      ]
    },
    {
      "cell_type": "code",
      "metadata": {
        "id": "gdbOp8MyMwTB",
        "colab_type": "code",
        "colab": {}
      },
      "source": [
        "def train_loop(model, opt, loss, dataset, epochs):\n",
        "  for epoch in range(epochs):\n",
        "    epoch_loss = 0\n",
        "    for step, batch_features in enumerate(dataset):\n",
        "      loss_values = train(loss, model, opt, batch_features)\n",
        "      epoch_loss += loss_values\n",
        "    model.loss.append(epoch_loss)\n",
        "    print('Epoch {}/{}. Loss: {}'.format(epoch + 1, epochs, epoch_loss.numpy()))"
      ],
      "execution_count": 0,
      "outputs": []
    },
    {
      "cell_type": "markdown",
      "metadata": {
        "id": "xJlOKYtOM3Zm",
        "colab_type": "text"
      },
      "source": [
        "**Process Data Set**"
      ]
    },
    {
      "cell_type": "code",
      "metadata": {
        "id": "ZeBmdoqQM6vN",
        "colab_type": "code",
        "outputId": "20f8785b-54f3-48c2-90b7-ba767355cd7c",
        "colab": {
          "base_uri": "https://localhost:8080/",
          "height": 51
        }
      },
      "source": [
        "from tensorflow.keras.datasets import mnist\n",
        "(x_train, _), (x_test, _) = mnist.load_data()\n",
        "\n",
        "x_train = x_train / 255.\n",
        "\n",
        "x_train = x_train.astype(np.float32)\n",
        "x_train = np.reshape(x_train, (x_train.shape[0], 784))\n",
        "x_test = np.reshape(x_test, (x_test.shape[0], 784))\n",
        "\n",
        "training_dataset = tf.data.Dataset.from_tensor_slices(x_train).batch(256)"
      ],
      "execution_count": 14,
      "outputs": [
        {
          "output_type": "stream",
          "text": [
            "Downloading data from https://storage.googleapis.com/tensorflow/tf-keras-datasets/mnist.npz\n",
            "11493376/11490434 [==============================] - 0s 0us/step\n"
          ],
          "name": "stdout"
        }
      ]
    },
    {
      "cell_type": "markdown",
      "metadata": {
        "id": "0UZWZ6WzNEK9",
        "colab_type": "text"
      },
      "source": [
        "**Train Model**"
      ]
    },
    {
      "cell_type": "markdown",
      "metadata": {
        "id": "dvMA-GIENwjn",
        "colab_type": "text"
      },
      "source": [
        "Model with 1 layer"
      ]
    },
    {
      "cell_type": "code",
      "metadata": {
        "id": "_oxY2kYVNF5S",
        "colab_type": "code",
        "colab": {
          "base_uri": "https://localhost:8080/",
          "height": 1000
        },
        "outputId": "3a6c320d-58ff-4e6e-9221-f7b0fa0f1f4e"
      },
      "source": [
        "model = Autoencoder(intermediate_dim=128, original_dim=784)\n",
        "opt = tf.keras.optimizers.Adam(learning_rate=1e-2)\n",
        "\n",
        "train_loop(model, opt, loss, training_dataset, 100)"
      ],
      "execution_count": 15,
      "outputs": [
        {
          "output_type": "stream",
          "text": [
            "Epoch 1/100. Loss: 9.325858116149902\n",
            "Epoch 2/100. Loss: 5.922861099243164\n",
            "Epoch 3/100. Loss: 5.3952860832214355\n",
            "Epoch 4/100. Loss: 5.172358989715576\n",
            "Epoch 5/100. Loss: 4.95595121383667\n",
            "Epoch 6/100. Loss: 4.840765953063965\n",
            "Epoch 7/100. Loss: 4.725828170776367\n",
            "Epoch 8/100. Loss: 4.674190998077393\n",
            "Epoch 9/100. Loss: 4.6715497970581055\n",
            "Epoch 10/100. Loss: 4.601112365722656\n",
            "Epoch 11/100. Loss: 4.598875999450684\n",
            "Epoch 12/100. Loss: 4.5919270515441895\n",
            "Epoch 13/100. Loss: 4.55648136138916\n",
            "Epoch 14/100. Loss: 4.530733585357666\n",
            "Epoch 15/100. Loss: 4.529290199279785\n",
            "Epoch 16/100. Loss: 4.509922981262207\n",
            "Epoch 17/100. Loss: 4.4849982261657715\n",
            "Epoch 18/100. Loss: 4.477208137512207\n",
            "Epoch 19/100. Loss: 4.4907660484313965\n",
            "Epoch 20/100. Loss: 4.477975845336914\n",
            "Epoch 21/100. Loss: 4.502233028411865\n",
            "Epoch 22/100. Loss: 4.477233409881592\n",
            "Epoch 23/100. Loss: 4.449748516082764\n",
            "Epoch 24/100. Loss: 4.449930191040039\n",
            "Epoch 25/100. Loss: 4.4615631103515625\n",
            "Epoch 26/100. Loss: 4.454477310180664\n",
            "Epoch 27/100. Loss: 4.455994129180908\n",
            "Epoch 28/100. Loss: 4.453520774841309\n",
            "Epoch 29/100. Loss: 4.471059322357178\n",
            "Epoch 30/100. Loss: 4.453855991363525\n",
            "Epoch 31/100. Loss: 4.448544502258301\n",
            "Epoch 32/100. Loss: 4.438082695007324\n",
            "Epoch 33/100. Loss: 4.461392879486084\n",
            "Epoch 34/100. Loss: 4.422171115875244\n",
            "Epoch 35/100. Loss: 4.462831020355225\n",
            "Epoch 36/100. Loss: 4.415110111236572\n",
            "Epoch 37/100. Loss: 4.413339614868164\n",
            "Epoch 38/100. Loss: 4.398983955383301\n",
            "Epoch 39/100. Loss: 4.414369106292725\n",
            "Epoch 40/100. Loss: 4.4058051109313965\n",
            "Epoch 41/100. Loss: 4.403448104858398\n",
            "Epoch 42/100. Loss: 4.401790142059326\n",
            "Epoch 43/100. Loss: 4.400805950164795\n",
            "Epoch 44/100. Loss: 4.424828052520752\n",
            "Epoch 45/100. Loss: 4.397611141204834\n",
            "Epoch 46/100. Loss: 4.41517972946167\n",
            "Epoch 47/100. Loss: 4.411675930023193\n",
            "Epoch 48/100. Loss: 4.400053977966309\n",
            "Epoch 49/100. Loss: 4.4072980880737305\n",
            "Epoch 50/100. Loss: 4.3968729972839355\n",
            "Epoch 51/100. Loss: 4.408895492553711\n",
            "Epoch 52/100. Loss: 4.413635730743408\n",
            "Epoch 53/100. Loss: 4.391993045806885\n",
            "Epoch 54/100. Loss: 4.391897201538086\n",
            "Epoch 55/100. Loss: 4.393490314483643\n",
            "Epoch 56/100. Loss: 4.375732421875\n",
            "Epoch 57/100. Loss: 4.391400337219238\n",
            "Epoch 58/100. Loss: 4.373960971832275\n",
            "Epoch 59/100. Loss: 4.406550884246826\n",
            "Epoch 60/100. Loss: 4.416437149047852\n",
            "Epoch 61/100. Loss: 4.39926815032959\n",
            "Epoch 62/100. Loss: 4.371035575866699\n",
            "Epoch 63/100. Loss: 4.364198684692383\n",
            "Epoch 64/100. Loss: 4.377119064331055\n",
            "Epoch 65/100. Loss: 4.374197006225586\n",
            "Epoch 66/100. Loss: 4.3523430824279785\n",
            "Epoch 67/100. Loss: 4.400648593902588\n",
            "Epoch 68/100. Loss: 4.364223003387451\n",
            "Epoch 69/100. Loss: 4.391049861907959\n",
            "Epoch 70/100. Loss: 4.373517036437988\n",
            "Epoch 71/100. Loss: 4.370214462280273\n",
            "Epoch 72/100. Loss: 4.365537166595459\n",
            "Epoch 73/100. Loss: 4.372113227844238\n",
            "Epoch 74/100. Loss: 4.378062725067139\n",
            "Epoch 75/100. Loss: 4.383833885192871\n",
            "Epoch 76/100. Loss: 4.359875679016113\n",
            "Epoch 77/100. Loss: 4.382256984710693\n",
            "Epoch 78/100. Loss: 4.36024808883667\n",
            "Epoch 79/100. Loss: 4.363171577453613\n",
            "Epoch 80/100. Loss: 4.373251914978027\n",
            "Epoch 81/100. Loss: 4.385100841522217\n",
            "Epoch 82/100. Loss: 4.362630367279053\n",
            "Epoch 83/100. Loss: 4.351337432861328\n",
            "Epoch 84/100. Loss: 4.36273193359375\n",
            "Epoch 85/100. Loss: 4.348307132720947\n",
            "Epoch 86/100. Loss: 4.356232166290283\n",
            "Epoch 87/100. Loss: 4.360644817352295\n",
            "Epoch 88/100. Loss: 4.363786697387695\n",
            "Epoch 89/100. Loss: 4.373626708984375\n",
            "Epoch 90/100. Loss: 4.348667144775391\n",
            "Epoch 91/100. Loss: 4.35449743270874\n",
            "Epoch 92/100. Loss: 4.323503017425537\n",
            "Epoch 93/100. Loss: 4.347662925720215\n",
            "Epoch 94/100. Loss: 4.341639518737793\n",
            "Epoch 95/100. Loss: 4.323246955871582\n",
            "Epoch 96/100. Loss: 4.346954822540283\n",
            "Epoch 97/100. Loss: 4.332979202270508\n",
            "Epoch 98/100. Loss: 4.336392402648926\n",
            "Epoch 99/100. Loss: 4.323468208312988\n",
            "Epoch 100/100. Loss: 4.3480072021484375\n"
          ],
          "name": "stdout"
        }
      ]
    },
    {
      "cell_type": "markdown",
      "metadata": {
        "id": "c6NDuICeN1rV",
        "colab_type": "text"
      },
      "source": [
        "Model With Two Layer"
      ]
    },
    {
      "cell_type": "code",
      "metadata": {
        "id": "AHNkyUJFN4zQ",
        "colab_type": "code",
        "colab": {
          "base_uri": "https://localhost:8080/",
          "height": 1000
        },
        "outputId": "187e5628-f146-4b0c-ff19-2fa2777a1ad0"
      },
      "source": [
        "model2 = Autoencoder_two(intermediate_dim=128, original_dim=784)\n",
        "#print(model2)\n",
        "opt = tf.keras.optimizers.Adam(learning_rate=1e-2)\n",
        "train_loop(model2, opt, loss, training_dataset, 100)"
      ],
      "execution_count": 16,
      "outputs": [
        {
          "output_type": "stream",
          "text": [
            "Epoch 1/100. Loss: 10.106501579284668\n",
            "Epoch 2/100. Loss: 6.3062262535095215\n",
            "Epoch 3/100. Loss: 5.554972171783447\n",
            "Epoch 4/100. Loss: 5.143917083740234\n",
            "Epoch 5/100. Loss: 4.907423496246338\n",
            "Epoch 6/100. Loss: 4.738211154937744\n",
            "Epoch 7/100. Loss: 4.610595703125\n",
            "Epoch 8/100. Loss: 4.492867469787598\n",
            "Epoch 9/100. Loss: 4.4215898513793945\n",
            "Epoch 10/100. Loss: 4.363184452056885\n",
            "Epoch 11/100. Loss: 4.320153713226318\n",
            "Epoch 12/100. Loss: 4.26496696472168\n",
            "Epoch 13/100. Loss: 4.233292102813721\n",
            "Epoch 14/100. Loss: 4.200211524963379\n",
            "Epoch 15/100. Loss: 4.199594497680664\n",
            "Epoch 16/100. Loss: 4.168353080749512\n",
            "Epoch 17/100. Loss: 4.125350475311279\n",
            "Epoch 18/100. Loss: 4.1317057609558105\n",
            "Epoch 19/100. Loss: 4.117483615875244\n",
            "Epoch 20/100. Loss: 4.111725330352783\n",
            "Epoch 21/100. Loss: 4.10139274597168\n",
            "Epoch 22/100. Loss: 4.08391809463501\n",
            "Epoch 23/100. Loss: 4.068212509155273\n",
            "Epoch 24/100. Loss: 4.0795745849609375\n",
            "Epoch 25/100. Loss: 4.082703113555908\n",
            "Epoch 26/100. Loss: 4.025240898132324\n",
            "Epoch 27/100. Loss: 4.036130428314209\n",
            "Epoch 28/100. Loss: 4.06257963180542\n",
            "Epoch 29/100. Loss: 4.036500453948975\n",
            "Epoch 30/100. Loss: 4.0569868087768555\n",
            "Epoch 31/100. Loss: 4.049519062042236\n",
            "Epoch 32/100. Loss: 4.021610736846924\n",
            "Epoch 33/100. Loss: 4.013966083526611\n",
            "Epoch 34/100. Loss: 3.999565601348877\n",
            "Epoch 35/100. Loss: 3.997779607772827\n",
            "Epoch 36/100. Loss: 4.008545875549316\n",
            "Epoch 37/100. Loss: 3.997654438018799\n",
            "Epoch 38/100. Loss: 4.001465320587158\n",
            "Epoch 39/100. Loss: 3.993386745452881\n",
            "Epoch 40/100. Loss: 3.969731569290161\n",
            "Epoch 41/100. Loss: 3.9836628437042236\n",
            "Epoch 42/100. Loss: 3.9857847690582275\n",
            "Epoch 43/100. Loss: 3.966959238052368\n",
            "Epoch 44/100. Loss: 3.9657716751098633\n",
            "Epoch 45/100. Loss: 3.986936092376709\n",
            "Epoch 46/100. Loss: 3.976583480834961\n",
            "Epoch 47/100. Loss: 3.966641902923584\n",
            "Epoch 48/100. Loss: 3.955350399017334\n",
            "Epoch 49/100. Loss: 4.005444526672363\n",
            "Epoch 50/100. Loss: 3.9497077465057373\n",
            "Epoch 51/100. Loss: 3.952650547027588\n",
            "Epoch 52/100. Loss: 3.955594301223755\n",
            "Epoch 53/100. Loss: 3.972255229949951\n",
            "Epoch 54/100. Loss: 3.9704487323760986\n",
            "Epoch 55/100. Loss: 3.9652509689331055\n",
            "Epoch 56/100. Loss: 3.9742844104766846\n",
            "Epoch 57/100. Loss: 3.954699754714966\n",
            "Epoch 58/100. Loss: 3.9501123428344727\n",
            "Epoch 59/100. Loss: 3.941669464111328\n",
            "Epoch 60/100. Loss: 3.926018714904785\n",
            "Epoch 61/100. Loss: 3.9735732078552246\n",
            "Epoch 62/100. Loss: 3.9421451091766357\n",
            "Epoch 63/100. Loss: 3.9568190574645996\n",
            "Epoch 64/100. Loss: 3.921564817428589\n",
            "Epoch 65/100. Loss: 3.9555013179779053\n",
            "Epoch 66/100. Loss: 3.963146924972534\n",
            "Epoch 67/100. Loss: 3.9292447566986084\n",
            "Epoch 68/100. Loss: 3.912625312805176\n",
            "Epoch 69/100. Loss: 3.9547231197357178\n",
            "Epoch 70/100. Loss: 3.926928997039795\n",
            "Epoch 71/100. Loss: 3.906512498855591\n",
            "Epoch 72/100. Loss: 3.9435834884643555\n",
            "Epoch 73/100. Loss: 3.913816452026367\n",
            "Epoch 74/100. Loss: 3.9299042224884033\n",
            "Epoch 75/100. Loss: 3.9529011249542236\n",
            "Epoch 76/100. Loss: 3.9490106105804443\n",
            "Epoch 77/100. Loss: 3.905653238296509\n",
            "Epoch 78/100. Loss: 3.9114253520965576\n",
            "Epoch 79/100. Loss: 3.935468912124634\n",
            "Epoch 80/100. Loss: 3.929805040359497\n",
            "Epoch 81/100. Loss: 3.9155759811401367\n",
            "Epoch 82/100. Loss: 3.900296688079834\n",
            "Epoch 83/100. Loss: 3.9560725688934326\n",
            "Epoch 84/100. Loss: 3.9217748641967773\n",
            "Epoch 85/100. Loss: 3.893362045288086\n",
            "Epoch 86/100. Loss: 3.905000925064087\n",
            "Epoch 87/100. Loss: 3.947566032409668\n",
            "Epoch 88/100. Loss: 3.9048373699188232\n",
            "Epoch 89/100. Loss: 3.914395570755005\n",
            "Epoch 90/100. Loss: 3.8884212970733643\n",
            "Epoch 91/100. Loss: 3.900157928466797\n",
            "Epoch 92/100. Loss: 3.924862861633301\n",
            "Epoch 93/100. Loss: 3.953235626220703\n",
            "Epoch 94/100. Loss: 3.9026265144348145\n",
            "Epoch 95/100. Loss: 3.879546642303467\n",
            "Epoch 96/100. Loss: 3.9255712032318115\n",
            "Epoch 97/100. Loss: 3.9178574085235596\n",
            "Epoch 98/100. Loss: 3.904585838317871\n",
            "Epoch 99/100. Loss: 3.9027600288391113\n",
            "Epoch 100/100. Loss: 3.87957763671875\n"
          ],
          "name": "stdout"
        }
      ]
    },
    {
      "cell_type": "markdown",
      "metadata": {
        "id": "9HRqJ-3QOBnK",
        "colab_type": "text"
      },
      "source": [
        "Model With three layers"
      ]
    },
    {
      "cell_type": "code",
      "metadata": {
        "id": "VPrf0VKfOFag",
        "colab_type": "code",
        "outputId": "b56cc07f-f7fd-4557-c2a1-36fd94b5319f",
        "colab": {
          "base_uri": "https://localhost:8080/",
          "height": 1000
        }
      },
      "source": [
        "model3 = Autoencoder_three(intermediate_dim=256, original_dim=784)\n",
        "opt = tf.keras.optimizers.Adam(learning_rate=1e-2)\n",
        "\n",
        "train_loop(model3, opt, loss, training_dataset, 100)"
      ],
      "execution_count": 17,
      "outputs": [
        {
          "output_type": "stream",
          "text": [
            "Epoch 1/100. Loss: 14.595809936523438\n",
            "Epoch 2/100. Loss: 7.764787197113037\n",
            "Epoch 3/100. Loss: 6.717175483703613\n",
            "Epoch 4/100. Loss: 6.151022911071777\n",
            "Epoch 5/100. Loss: 5.730539798736572\n",
            "Epoch 6/100. Loss: 5.508440971374512\n",
            "Epoch 7/100. Loss: 5.365896224975586\n",
            "Epoch 8/100. Loss: 5.215963363647461\n",
            "Epoch 9/100. Loss: 4.951610565185547\n",
            "Epoch 10/100. Loss: 4.891270637512207\n",
            "Epoch 11/100. Loss: 4.836716651916504\n",
            "Epoch 12/100. Loss: 4.730564117431641\n",
            "Epoch 13/100. Loss: 4.682438850402832\n",
            "Epoch 14/100. Loss: 4.543855667114258\n",
            "Epoch 15/100. Loss: 4.548337459564209\n",
            "Epoch 16/100. Loss: 4.489293575286865\n",
            "Epoch 17/100. Loss: 4.424539089202881\n",
            "Epoch 18/100. Loss: 4.373437881469727\n",
            "Epoch 19/100. Loss: 4.373033046722412\n",
            "Epoch 20/100. Loss: 4.312856197357178\n",
            "Epoch 21/100. Loss: 4.280344486236572\n",
            "Epoch 22/100. Loss: 4.273334980010986\n",
            "Epoch 23/100. Loss: 4.263602256774902\n",
            "Epoch 24/100. Loss: 4.208545684814453\n",
            "Epoch 25/100. Loss: 4.266449451446533\n",
            "Epoch 26/100. Loss: 4.143404960632324\n",
            "Epoch 27/100. Loss: 4.227560043334961\n",
            "Epoch 28/100. Loss: 4.0715718269348145\n",
            "Epoch 29/100. Loss: 4.119290351867676\n",
            "Epoch 30/100. Loss: 4.05698823928833\n",
            "Epoch 31/100. Loss: 4.137546539306641\n",
            "Epoch 32/100. Loss: 4.091663360595703\n",
            "Epoch 33/100. Loss: 4.067195415496826\n",
            "Epoch 34/100. Loss: 3.9989213943481445\n",
            "Epoch 35/100. Loss: 3.994535207748413\n",
            "Epoch 36/100. Loss: 3.992051362991333\n",
            "Epoch 37/100. Loss: 4.027900218963623\n",
            "Epoch 38/100. Loss: 4.027986526489258\n",
            "Epoch 39/100. Loss: 4.000421047210693\n",
            "Epoch 40/100. Loss: 3.977102041244507\n",
            "Epoch 41/100. Loss: 3.948802947998047\n",
            "Epoch 42/100. Loss: 4.022215366363525\n",
            "Epoch 43/100. Loss: 4.007840156555176\n",
            "Epoch 44/100. Loss: 3.9344303607940674\n",
            "Epoch 45/100. Loss: 3.965074062347412\n",
            "Epoch 46/100. Loss: 3.918198823928833\n",
            "Epoch 47/100. Loss: 4.010148525238037\n",
            "Epoch 48/100. Loss: 3.8884429931640625\n",
            "Epoch 49/100. Loss: 3.9421308040618896\n",
            "Epoch 50/100. Loss: 3.9262471199035645\n",
            "Epoch 51/100. Loss: 3.87481427192688\n",
            "Epoch 52/100. Loss: 3.9480679035186768\n",
            "Epoch 53/100. Loss: 3.91090726852417\n",
            "Epoch 54/100. Loss: 3.903942584991455\n",
            "Epoch 55/100. Loss: 3.8895199298858643\n",
            "Epoch 56/100. Loss: 3.90018367767334\n",
            "Epoch 57/100. Loss: 3.855051279067993\n",
            "Epoch 58/100. Loss: 3.8693652153015137\n",
            "Epoch 59/100. Loss: 3.9060757160186768\n",
            "Epoch 60/100. Loss: 3.8859052658081055\n",
            "Epoch 61/100. Loss: 3.8797574043273926\n",
            "Epoch 62/100. Loss: 3.7927358150482178\n",
            "Epoch 63/100. Loss: 3.884984016418457\n",
            "Epoch 64/100. Loss: 3.8736093044281006\n",
            "Epoch 65/100. Loss: 3.861870765686035\n",
            "Epoch 66/100. Loss: 3.9093949794769287\n",
            "Epoch 67/100. Loss: 3.924154758453369\n",
            "Epoch 68/100. Loss: 3.8229939937591553\n",
            "Epoch 69/100. Loss: 3.8951244354248047\n",
            "Epoch 70/100. Loss: 3.8375864028930664\n",
            "Epoch 71/100. Loss: 3.9027252197265625\n",
            "Epoch 72/100. Loss: 3.8686881065368652\n",
            "Epoch 73/100. Loss: 3.7920501232147217\n",
            "Epoch 74/100. Loss: 3.8636178970336914\n",
            "Epoch 75/100. Loss: 3.9076778888702393\n",
            "Epoch 76/100. Loss: 3.859687566757202\n",
            "Epoch 77/100. Loss: 3.8348429203033447\n",
            "Epoch 78/100. Loss: 3.819077968597412\n",
            "Epoch 79/100. Loss: 3.767672300338745\n",
            "Epoch 80/100. Loss: 3.8167126178741455\n",
            "Epoch 81/100. Loss: 3.8509321212768555\n",
            "Epoch 82/100. Loss: 3.839193105697632\n",
            "Epoch 83/100. Loss: 3.792127847671509\n",
            "Epoch 84/100. Loss: 3.888137102127075\n",
            "Epoch 85/100. Loss: 3.820551633834839\n",
            "Epoch 86/100. Loss: 3.8499085903167725\n",
            "Epoch 87/100. Loss: 3.848686695098877\n",
            "Epoch 88/100. Loss: 3.7385919094085693\n",
            "Epoch 89/100. Loss: 3.8095703125\n",
            "Epoch 90/100. Loss: 3.8497395515441895\n",
            "Epoch 91/100. Loss: 3.79443359375\n",
            "Epoch 92/100. Loss: 3.8147757053375244\n",
            "Epoch 93/100. Loss: 3.7652597427368164\n",
            "Epoch 94/100. Loss: 3.79400634765625\n",
            "Epoch 95/100. Loss: 3.8125271797180176\n",
            "Epoch 96/100. Loss: 3.789877414703369\n",
            "Epoch 97/100. Loss: 3.837028980255127\n",
            "Epoch 98/100. Loss: 3.8018734455108643\n",
            "Epoch 99/100. Loss: 3.815176010131836\n",
            "Epoch 100/100. Loss: 3.8348302841186523\n"
          ],
          "name": "stdout"
        }
      ]
    },
    {
      "cell_type": "markdown",
      "metadata": {
        "id": "PCOtpF0KtK2c",
        "colab_type": "text"
      },
      "source": [
        "**Predictions**"
      ]
    },
    {
      "cell_type": "markdown",
      "metadata": {
        "id": "3VWyQpMkuqB5",
        "colab_type": "text"
      },
      "source": [
        "Predicton for 1 hidden layer model"
      ]
    },
    {
      "cell_type": "code",
      "metadata": {
        "id": "fQPQFwCKtPZm",
        "colab_type": "code",
        "outputId": "f4a17238-a91d-4985-84b5-d0aaa4de4f19",
        "colab": {
          "base_uri": "https://localhost:8080/",
          "height": 248
        }
      },
      "source": [
        "number = 10  # how many digits we will display\n",
        "plt.figure(figsize=(20, 4))\n",
        "for index in range(number):\n",
        "    # display original\n",
        "    ax = plt.subplot(2, number, index + 1)\n",
        "    plt.imshow(x_test[index].reshape(28, 28))\n",
        "    plt.gray()\n",
        "    ax.get_xaxis().set_visible(False)\n",
        "    ax.get_yaxis().set_visible(False)\n",
        "\n",
        "    # display reconstruction\n",
        "    ax = plt.subplot(2, number, index + 1 + number)\n",
        "    plt.imshow(model(x_test)[index].numpy().reshape(28, 28))\n",
        "    plt.gray()\n",
        "    ax.get_xaxis().set_visible(False)\n",
        "    ax.get_yaxis().set_visible(False)\n",
        "plt.show()"
      ],
      "execution_count": 18,
      "outputs": [
        {
          "output_type": "display_data",
          "data": {
            "image/png": "[encoded data removed]",
            "text/plain": [
              "<Figure size 1440x288 with 20 Axes>"
            ]
          },
          "metadata": {
            "tags": [],
            "needs_background": "light"
          }
        }
      ]
    },
    {
      "cell_type": "code",
      "metadata": {
        "id": "oNO28aLQfixh",
        "colab_type": "code",
        "colab": {
          "base_uri": "https://localhost:8080/",
          "height": 279
        },
        "outputId": "2f910eeb-ab7e-4fdc-c5e9-179796b7d458"
      },
      "source": [
        "plt.plot(range(100), model.loss)\n",
        "plt.xlabel('Epochs')\n",
        "plt.ylabel('Loss')\n",
        "plt.show()"
      ],
      "execution_count": 26,
      "outputs": [
        {
          "output_type": "display_data",
          "data": {
            "image/png": "[encoded data removed]",
            "text/plain": [
              "<Figure size 432x288 with 1 Axes>"
            ]
          },
          "metadata": {
            "tags": [],
            "needs_background": "light"
          }
        }
      ]
    },
    {
      "cell_type": "markdown",
      "metadata": {
        "id": "YpSFofUBuy0W",
        "colab_type": "text"
      },
      "source": [
        "Prediction for 2 hidden layer model"
      ]
    },
    {
      "cell_type": "code",
      "metadata": {
        "id": "Tz1ony8Tu2Rd",
        "colab_type": "code",
        "outputId": "8955bbc6-3f62-461f-9a43-60c39b745443",
        "colab": {
          "base_uri": "https://localhost:8080/",
          "height": 248
        }
      },
      "source": [
        "number = 10  # how many digits we will display\n",
        "plt.figure(figsize=(20, 4))\n",
        "for index in range(number):\n",
        "    # display original\n",
        "    ax = plt.subplot(2, number, index + 1)\n",
        "    plt.imshow(x_test[index].reshape(28, 28))\n",
        "    plt.gray()\n",
        "    ax.get_xaxis().set_visible(False)\n",
        "    ax.get_yaxis().set_visible(False)\n",
        "\n",
        "    # display reconstruction\n",
        "    ax = plt.subplot(2, number, index + 1 + number)\n",
        "    plt.imshow(model2(x_test)[index].numpy().reshape(28, 28))\n",
        "    plt.gray()\n",
        "    ax.get_xaxis().set_visible(False)\n",
        "    ax.get_yaxis().set_visible(False)\n",
        "plt.show()"
      ],
      "execution_count": 19,
      "outputs": [
        {
          "output_type": "display_data",
          "data": {
            "image/png": "[encoded data removed]",
            "text/plain": [
              "<Figure size 1440x288 with 20 Axes>"
            ]
          },
          "metadata": {
            "tags": [],
            "needs_background": "light"
          }
        }
      ]
    },
    {
      "cell_type": "code",
      "metadata": {
        "id": "7CZj9vz7fsbV",
        "colab_type": "code",
        "colab": {
          "base_uri": "https://localhost:8080/",
          "height": 279
        },
        "outputId": "a69677e8-8314-4094-b26e-1ff7ce52740b"
      },
      "source": [
        "plt.plot(range(100), model2.loss)\n",
        "plt.xlabel('Epochs')\n",
        "plt.ylabel('Loss')\n",
        "plt.show()"
      ],
      "execution_count": 28,
      "outputs": [
        {
          "output_type": "display_data",
          "data": {
            "image/png": "[encoded data removed]",
            "text/plain": [
              "<Figure size 432x288 with 1 Axes>"
            ]
          },
          "metadata": {
            "tags": [],
            "needs_background": "light"
          }
        }
      ]
    },
    {
      "cell_type": "markdown",
      "metadata": {
        "id": "k0fv0grru6e3",
        "colab_type": "text"
      },
      "source": [
        "Predictions for 3 hidden layer Model"
      ]
    },
    {
      "cell_type": "code",
      "metadata": {
        "id": "l8pquHE6u9tg",
        "colab_type": "code",
        "outputId": "e6c79805-ac88-47a4-d515-f3d65fd3e80a",
        "colab": {
          "base_uri": "https://localhost:8080/",
          "height": 248
        }
      },
      "source": [
        "number = 10  # how many digits we will display\n",
        "plt.figure(figsize=(20, 4))\n",
        "for index in range(number):\n",
        "    # display original\n",
        "    ax = plt.subplot(2, number, index + 1)\n",
        "    plt.imshow(x_test[index].reshape(28, 28))\n",
        "    plt.gray()\n",
        "    ax.get_xaxis().set_visible(False)\n",
        "    ax.get_yaxis().set_visible(False)\n",
        "\n",
        "    # display reconstruction\n",
        "    ax = plt.subplot(2, number, index + 1 + number)\n",
        "    plt.imshow(model3(x_test)[index].numpy().reshape(28, 28))\n",
        "    plt.gray()\n",
        "    ax.get_xaxis().set_visible(False)\n",
        "    ax.get_yaxis().set_visible(False)\n",
        "plt.show()"
      ],
      "execution_count": 20,
      "outputs": [
        {
          "output_type": "display_data",
          "data": {
            "image/png": "[encoded data removed]",
            "text/plain": [
              "<Figure size 1440x288 with 20 Axes>"
            ]
          },
          "metadata": {
            "tags": [],
            "needs_background": "light"
          }
        }
      ]
    },
    {
      "cell_type": "code",
      "metadata": {
        "id": "snUBWJBjfyZe",
        "colab_type": "code",
        "colab": {
          "base_uri": "https://localhost:8080/",
          "height": 279
        },
        "outputId": "cee397ea-9bfc-49a4-eff7-ae355f62b770"
      },
      "source": [
        "plt.plot(range(100), model3.loss)\n",
        "plt.xlabel('Epochs')\n",
        "plt.ylabel('Loss')\n",
        "plt.show()"
      ],
      "execution_count": 29,
      "outputs": [
        {
          "output_type": "display_data",
          "data": {
            "image/png": "[encoded data removed]",
            "text/plain": [
              "<Figure size 432x288 with 1 Axes>"
            ]
          },
          "metadata": {
            "tags": [],
            "needs_background": "light"
          }
        }
      ]
    },
    {
      "cell_type": "markdown",
      "metadata": {
        "id": "eTsLELySwSCn",
        "colab_type": "text"
      },
      "source": [
        "From the Model Loss and Predictions, it can be noticed that the model with 3 hidden layer is performing the best. Since we are reducing the size of the layer. Since the dimensions decrease the data loss while decoding is also more. Thus, accuracy is better for 1 hidden layer model in this case."
      ]
    },
    {
      "cell_type": "markdown",
      "metadata": {
        "id": "FMfDC7XBzPUt",
        "colab_type": "text"
      },
      "source": [
        "## **CNN models**"
      ]
    },
    {
      "cell_type": "markdown",
      "metadata": {
        "id": "3NbP33E_zgxk",
        "colab_type": "text"
      },
      "source": [
        "Prepare Model"
      ]
    },
    {
      "cell_type": "code",
      "metadata": {
        "id": "iTYWruHx0YMr",
        "colab_type": "code",
        "colab": {}
      },
      "source": [
        "input_img = tf.keras.layers.Input(shape=(28, 28, 1)) # adapt this if using `channels_first` image data format\n",
        "\n",
        "x = tf.keras.layers.Conv2D(16, (3, 3), activation='relu', padding='same')(input_img)\n",
        "x = tf.keras.layers.MaxPooling2D((2, 2), padding='same')(x)\n",
        "x = tf.keras.layers.Conv2D(8, (3, 3), activation='relu', padding='same')(x)\n",
        "x = tf.keras.layers.MaxPooling2D((2, 2), padding='same')(x)\n",
        "x = tf.keras.layers.Conv2D(8, (3, 3), activation='relu', padding='same')(x)\n",
        "encoded = tf.keras.layers.MaxPooling2D((2, 2), padding='same')(x)\n",
        "\n",
        "# at this point the representation is (4, 4, 8) i.e. 128-dimensional\n",
        "\n",
        "x = tf.keras.layers.Conv2D(8, (3, 3), activation='relu', padding='same')(encoded)\n",
        "x = tf.keras.layers.UpSampling2D((2, 2))(x)\n",
        "x = tf.keras.layers.Conv2D(8, (3, 3), activation='relu', padding='same')(x)\n",
        "x = tf.keras.layers.UpSampling2D((2, 2))(x)\n",
        "x = tf.keras.layers.Conv2D(16, (3, 3), activation='relu')(x)\n",
        "x = tf.keras.layers.UpSampling2D((2, 2))(x)\n",
        "decoded = tf.keras.layers.Conv2D(1, (3, 3), activation='sigmoid', padding='same')(x)\n",
        "\n",
        "autoencoder = tf.keras.models.Model(input_img, decoded)\n",
        "autoencoder.compile(optimizer='adadelta', loss='binary_crossentropy')"
      ],
      "execution_count": 0,
      "outputs": []
    },
    {
      "cell_type": "markdown",
      "metadata": {
        "id": "S4a8mIRd0hTK",
        "colab_type": "text"
      },
      "source": [
        "Prepare Data Set"
      ]
    },
    {
      "cell_type": "code",
      "metadata": {
        "id": "-bEpWlEH0dmN",
        "colab_type": "code",
        "colab": {}
      },
      "source": [
        "# to train this model we will with original MNIST digits with shape (samples, 3, 28, 28) and we will just normalize pixel values between 0 and 1\n",
        "# (x_train, _), (x_test, _) = load_data('../input/mnist.npz')\n",
        "from tensorflow.keras.datasets import mnist\n",
        "(x_train, _), (x_test, _) = mnist.load_data()\n",
        "\n",
        "x_train = x_train.astype('float32') / 255.\n",
        "x_test = x_test.astype('float32') / 255.\n",
        "x_train = np.reshape(x_train, (len(x_train), 28, 28, 1))\n",
        "x_test = np.reshape(x_test, (len(x_test), 28, 28, 1))"
      ],
      "execution_count": 0,
      "outputs": []
    },
    {
      "cell_type": "markdown",
      "metadata": {
        "id": "TOYDp5j70mFv",
        "colab_type": "text"
      },
      "source": [
        "Fit Model"
      ]
    },
    {
      "cell_type": "code",
      "metadata": {
        "id": "VZ9mfksA0ngc",
        "colab_type": "code",
        "colab": {
          "base_uri": "https://localhost:8080/",
          "height": 1000
        },
        "outputId": "b0ebc58a-2cd8-464f-dd18-ccadae841fd2"
      },
      "source": [
        "autoencoder.fit(x_train, x_train, epochs=50, batch_size=128, \n",
        "                shuffle=True, validation_data=(x_test, x_test), \n",
        "                callbacks=[tf.keras.callbacks.TensorBoard(log_dir='./tmp/autoencoder')])"
      ],
      "execution_count": 24,
      "outputs": [
        {
          "output_type": "stream",
          "text": [
            "Epoch 1/50\n",
            "469/469 [==============================] - 3s 5ms/step - loss: 0.2192 - val_loss: 0.2196\n",
            "Epoch 2/50\n",
            "469/469 [==============================] - 3s 6ms/step - loss: 0.2187 - val_loss: 0.2191\n",
            "Epoch 3/50\n",
            "469/469 [==============================] - 3s 6ms/step - loss: 0.2182 - val_loss: 0.2186\n",
            "Epoch 4/50\n",
            "469/469 [==============================] - 3s 5ms/step - loss: 0.2177 - val_loss: 0.2181\n",
            "Epoch 5/50\n",
            "469/469 [==============================] - 3s 5ms/step - loss: 0.2172 - val_loss: 0.2177\n",
            "Epoch 6/50\n",
            "469/469 [==============================] - 3s 5ms/step - loss: 0.2168 - val_loss: 0.2173\n",
            "Epoch 7/50\n",
            "469/469 [==============================] - 3s 5ms/step - loss: 0.2164 - val_loss: 0.2168\n",
            "Epoch 8/50\n",
            "469/469 [==============================] - 3s 5ms/step - loss: 0.2160 - val_loss: 0.2164\n",
            "Epoch 9/50\n",
            "469/469 [==============================] - 3s 5ms/step - loss: 0.2156 - val_loss: 0.2160\n",
            "Epoch 10/50\n",
            "469/469 [==============================] - 3s 5ms/step - loss: 0.2152 - val_loss: 0.2156\n",
            "Epoch 11/50\n",
            "469/469 [==============================] - 3s 5ms/step - loss: 0.2148 - val_loss: 0.2153\n",
            "Epoch 12/50\n",
            "469/469 [==============================] - 3s 5ms/step - loss: 0.2144 - val_loss: 0.2149\n",
            "Epoch 13/50\n",
            "469/469 [==============================] - 3s 5ms/step - loss: 0.2141 - val_loss: 0.2145\n",
            "Epoch 14/50\n",
            "469/469 [==============================] - 3s 5ms/step - loss: 0.2137 - val_loss: 0.2142\n",
            "Epoch 15/50\n",
            "469/469 [==============================] - 2s 5ms/step - loss: 0.2134 - val_loss: 0.2138\n",
            "Epoch 16/50\n",
            "469/469 [==============================] - 3s 5ms/step - loss: 0.2130 - val_loss: 0.2135\n",
            "Epoch 17/50\n",
            "469/469 [==============================] - 3s 5ms/step - loss: 0.2127 - val_loss: 0.2132\n",
            "Epoch 18/50\n",
            "469/469 [==============================] - 3s 6ms/step - loss: 0.2124 - val_loss: 0.2128\n",
            "Epoch 19/50\n",
            "469/469 [==============================] - 3s 6ms/step - loss: 0.2121 - val_loss: 0.2125\n",
            "Epoch 20/50\n",
            "469/469 [==============================] - 3s 6ms/step - loss: 0.2118 - val_loss: 0.2122\n",
            "Epoch 21/50\n",
            "469/469 [==============================] - 3s 6ms/step - loss: 0.2115 - val_loss: 0.2119\n",
            "Epoch 22/50\n",
            "469/469 [==============================] - 3s 5ms/step - loss: 0.2112 - val_loss: 0.2116\n",
            "Epoch 23/50\n",
            "469/469 [==============================] - 3s 5ms/step - loss: 0.2109 - val_loss: 0.2113\n",
            "Epoch 24/50\n",
            "469/469 [==============================] - 3s 5ms/step - loss: 0.2106 - val_loss: 0.2110\n",
            "Epoch 25/50\n",
            "469/469 [==============================] - 3s 5ms/step - loss: 0.2103 - val_loss: 0.2108\n",
            "Epoch 26/50\n",
            "469/469 [==============================] - 2s 5ms/step - loss: 0.2100 - val_loss: 0.2105\n",
            "Epoch 27/50\n",
            "469/469 [==============================] - 3s 5ms/step - loss: 0.2098 - val_loss: 0.2102\n",
            "Epoch 28/50\n",
            "469/469 [==============================] - 3s 5ms/step - loss: 0.2095 - val_loss: 0.2100\n",
            "Epoch 29/50\n",
            "469/469 [==============================] - 3s 5ms/step - loss: 0.2092 - val_loss: 0.2097\n",
            "Epoch 30/50\n",
            "469/469 [==============================] - 3s 5ms/step - loss: 0.2090 - val_loss: 0.2094\n",
            "Epoch 31/50\n",
            "469/469 [==============================] - 2s 5ms/step - loss: 0.2087 - val_loss: 0.2092\n",
            "Epoch 32/50\n",
            "469/469 [==============================] - 3s 5ms/step - loss: 0.2085 - val_loss: 0.2089\n",
            "Epoch 33/50\n",
            "469/469 [==============================] - 3s 5ms/step - loss: 0.2082 - val_loss: 0.2087\n",
            "Epoch 34/50\n",
            "469/469 [==============================] - 3s 5ms/step - loss: 0.2080 - val_loss: 0.2085\n",
            "Epoch 35/50\n",
            "469/469 [==============================] - 2s 5ms/step - loss: 0.2078 - val_loss: 0.2082\n",
            "Epoch 36/50\n",
            "469/469 [==============================] - 3s 5ms/step - loss: 0.2075 - val_loss: 0.2080\n",
            "Epoch 37/50\n",
            "469/469 [==============================] - 3s 5ms/step - loss: 0.2073 - val_loss: 0.2078\n",
            "Epoch 38/50\n",
            "469/469 [==============================] - 3s 5ms/step - loss: 0.2071 - val_loss: 0.2075\n",
            "Epoch 39/50\n",
            "469/469 [==============================] - 3s 5ms/step - loss: 0.2069 - val_loss: 0.2073\n",
            "Epoch 40/50\n",
            "469/469 [==============================] - 3s 5ms/step - loss: 0.2066 - val_loss: 0.2071\n",
            "Epoch 41/50\n",
            "469/469 [==============================] - 3s 5ms/step - loss: 0.2064 - val_loss: 0.2069\n",
            "Epoch 42/50\n",
            "469/469 [==============================] - 3s 5ms/step - loss: 0.2062 - val_loss: 0.2067\n",
            "Epoch 43/50\n",
            "469/469 [==============================] - 3s 5ms/step - loss: 0.2060 - val_loss: 0.2064\n",
            "Epoch 44/50\n",
            "469/469 [==============================] - 3s 5ms/step - loss: 0.2058 - val_loss: 0.2062\n",
            "Epoch 45/50\n",
            "469/469 [==============================] - 3s 5ms/step - loss: 0.2056 - val_loss: 0.2060\n",
            "Epoch 46/50\n",
            "469/469 [==============================] - 3s 5ms/step - loss: 0.2054 - val_loss: 0.2058\n",
            "Epoch 47/50\n",
            "469/469 [==============================] - 3s 5ms/step - loss: 0.2052 - val_loss: 0.2056\n",
            "Epoch 48/50\n",
            "469/469 [==============================] - 3s 5ms/step - loss: 0.2050 - val_loss: 0.2054\n",
            "Epoch 49/50\n",
            "469/469 [==============================] - 3s 5ms/step - loss: 0.2047 - val_loss: 0.2052\n",
            "Epoch 50/50\n",
            "469/469 [==============================] - 3s 5ms/step - loss: 0.2045 - val_loss: 0.2050\n"
          ],
          "name": "stdout"
        },
        {
          "output_type": "execute_result",
          "data": {
            "text/plain": [
              "<tensorflow.python.keras.callbacks.History at 0x7f3ace5ab438>"
            ]
          },
          "metadata": {
            "tags": []
          },
          "execution_count": 24
        }
      ]
    },
    {
      "cell_type": "code",
      "metadata": {
        "id": "ehjWQJun2PnF",
        "colab_type": "code",
        "colab": {}
      },
      "source": [
        "decoded_imgs = autoencoder.predict(x_test)\n",
        "autoencoder.load_weights('data/convauto.h5')\n",
        "n = 10\n",
        "plt.figure(figsize=(20, 4))\n",
        "for i in range(n):\n",
        "    \n",
        "    # original\n",
        "    ax = plt.subplot(2, n, i+1)\n",
        "    plt.imshow(x_test[i].reshape(28, 28))\n",
        "    plt.gray()\n",
        "    ax.get_xaxis().set_visible(False)\n",
        "    ax.get_yaxis().set_visible(False)\n",
        "\n",
        "    # reconstruction\n",
        "    ax = plt.subplot(2, n, i + 1 + n)\n",
        "    plt.imshow(decoded_imgs[i].reshape(28, 28))\n",
        "    plt.gray()\n",
        "    ax.get_xaxis().set_visible(False)\n",
        "    ax.get_yaxis().set_visible(False)\n",
        "plt.show()"
      ],
      "execution_count": 0,
      "outputs": []
    }
  ]
}