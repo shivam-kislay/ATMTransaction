{
  "nbformat": 4,
  "nbformat_minor": 0,
  "metadata": {
    "colab": {
      "name": "ShivamKislayAssignment.ipynb",
      "provenance": [],
      "collapsed_sections": [],
      "authorship_tag": "ABX9TyMVINLfucESbKBibJ/rSSkJ",
      "include_colab_link": true
    },
    "kernelspec": {
      "name": "python3",
      "display_name": "Python 3"
    },
    "accelerator": "GPU"
  },
  "cells": [
    {
      "cell_type": "markdown",
      "metadata": {
        "id": "view-in-github",
        "colab_type": "text"
      },
      "source": [
        "<a href=\"https://colab.research.google.com/github/shivam-kislay/ATMTransaction/blob/master/ShivamKislayAssignment.ipynb\" target=\"_parent\"><img src=\"https://colab.research.google.com/assets/colab-badge.svg\" alt=\"Open In Colab\"/></a>"
      ]
    },
    {
      "cell_type": "markdown",
      "metadata": {
        "id": "IAqboCY2I_lo",
        "colab_type": "text"
      },
      "source": [
        "**Install Libraries**"
      ]
    },
    {
      "cell_type": "code",
      "metadata": {
        "id": "NONLfltvI-gJ",
        "colab_type": "code",
        "outputId": "c2f213ab-f2e6-4c20-eda3-a0c64cc81531",
        "colab": {
          "base_uri": "https://localhost:8080/",
          "height": 51
        }
      },
      "source": [
        "from __future__ import absolute_import, division, print_function, unicode_literals\n",
        "\n",
        "#try:\n",
        "  # The %tensorflow_version magic only works in colab.\n",
        "  # tensorflow_version 2.x\n",
        "#except Exception:\n",
        "#  pass\n",
        "import numpy as np\n",
        "import matplotlib.pyplot as plt\n",
        "import tensorflow as tf\n",
        "\n",
        "from tensorflow.keras.datasets import mnist\n",
        "\n",
        "print('TensorFlow version:', tf.__version__)\n",
        "print('Is Executing Eagerly?', tf.executing_eagerly())"
      ],
      "execution_count": 0,
      "outputs": [
        {
          "output_type": "stream",
          "text": [
            "TensorFlow version: 2.2.0-rc2\n",
            "Is Executing Eagerly? True\n"
          ],
          "name": "stdout"
        }
      ]
    },
    {
      "cell_type": "markdown",
      "metadata": {
        "id": "pYLYacSwzJHQ",
        "colab_type": "text"
      },
      "source": [
        "## **Dense Layer Models**"
      ]
    },
    {
      "cell_type": "markdown",
      "metadata": {
        "id": "7q5KjHEAJUgL",
        "colab_type": "text"
      },
      "source": [
        "**Encoder**"
      ]
    },
    {
      "cell_type": "markdown",
      "metadata": {
        "id": "KW8v7tQdJg20",
        "colab_type": "text"
      },
      "source": [
        "Single Hidden Layer Encoder"
      ]
    },
    {
      "cell_type": "code",
      "metadata": {
        "id": "FQW_-y0aJYRt",
        "colab_type": "code",
        "colab": {}
      },
      "source": [
        "class Encoder(tf.keras.layers.Layer):\n",
        "    def __init__(self, intermediate_dim):\n",
        "        super(Encoder, self).__init__()\n",
        "        self.hidden_layer = tf.keras.layers.Dense(units=intermediate_dim, activation=tf.nn.relu)\n",
        "        self.output_layer = tf.keras.layers.Dense(units=intermediate_dim, activation=tf.nn.relu)\n",
        "    \n",
        "    def call(self, input_features):\n",
        "        activation = self.hidden_layer(input_features)\n",
        "        return self.output_layer(activation)"
      ],
      "execution_count": 0,
      "outputs": []
    },
    {
      "cell_type": "markdown",
      "metadata": {
        "id": "ZZnvwdNFJokw",
        "colab_type": "text"
      },
      "source": [
        "Two Hidden Layer Encoder"
      ]
    },
    {
      "cell_type": "code",
      "metadata": {
        "id": "evUmw3HuJsWc",
        "colab_type": "code",
        "colab": {}
      },
      "source": [
        "class Encoder_two(tf.keras.layers.Layer):\n",
        "    def __init__(self, intermediate_dim):\n",
        "        super(Encoder_two, self).__init__()\n",
        "        self.hidden_layer = tf.keras.layers.Dense(units=intermediate_dim, activation=tf.nn.relu)\n",
        "        self.hidden_layer2 = tf.keras.layers.Dense(units= (intermediate_dim / 2), activation=tf.nn.relu)\n",
        "        self.output_layer = tf.keras.layers.Dense(units=(intermediate_dim / 2), activation=tf.nn.relu)\n",
        "    \n",
        "    def call(self, input_features):\n",
        "        layer1 = self.hidden_layer(input_features)\n",
        "        activation = self.hidden_layer2(layer1)\n",
        "        return self.output_layer(activation)"
      ],
      "execution_count": 0,
      "outputs": []
    },
    {
      "cell_type": "markdown",
      "metadata": {
        "id": "155bvgmNOJuD",
        "colab_type": "text"
      },
      "source": [
        "Three Hidden layer Encoder"
      ]
    },
    {
      "cell_type": "code",
      "metadata": {
        "id": "iz57Y4DgOM8H",
        "colab_type": "code",
        "colab": {}
      },
      "source": [
        "class Encoder_three(tf.keras.layers.Layer):\n",
        "    def __init__(self, intermediate_dim):\n",
        "        super(Encoder_three, self).__init__()\n",
        "        self.hidden_layer = tf.keras.layers.Dense(units=intermediate_dim, activation=tf.nn.relu)\n",
        "        self.hidden_layer2 = tf.keras.layers.Dense(units= (intermediate_dim / 2), activation=tf.nn.relu)\n",
        "        self.hidden_layer3 = tf.keras.layers.Dense(units= ((intermediate_dim / 2) / 2), activation=tf.nn.relu)\n",
        "        self.output_layer = tf.keras.layers.Dense(units= ((intermediate_dim / 2) / 2), activation=tf.nn.relu)\n",
        "    \n",
        "    def call(self, input_features):\n",
        "        layer1 = self.hidden_layer(input_features)\n",
        "        layer2 = self.hidden_layer2(layer1)\n",
        "        activation = self.hidden_layer3(layer2)\n",
        "        return self.output_layer(activation)"
      ],
      "execution_count": 0,
      "outputs": []
    },
    {
      "cell_type": "markdown",
      "metadata": {
        "id": "yR1DoWToJ9Jt",
        "colab_type": "text"
      },
      "source": [
        "**Decoder**"
      ]
    },
    {
      "cell_type": "markdown",
      "metadata": {
        "id": "AgjkVtXOKCtf",
        "colab_type": "text"
      },
      "source": [
        "Single Layer Decoder"
      ]
    },
    {
      "cell_type": "code",
      "metadata": {
        "id": "4RhH2wWXKAuE",
        "colab_type": "code",
        "colab": {}
      },
      "source": [
        "class Decoder(tf.keras.layers.Layer):\n",
        "    def __init__(self, intermediate_dim, original_dim):\n",
        "        super(Decoder, self).__init__()\n",
        "        self.hidden_layer = tf.keras.layers.Dense(units=intermediate_dim, activation=tf.nn.relu)\n",
        "        self.output_layer = tf.keras.layers.Dense(units=original_dim, activation=tf.nn.relu)\n",
        "  \n",
        "    def call(self, code):\n",
        "        activation = self.hidden_layer(code)\n",
        "        return self.output_layer(activation)"
      ],
      "execution_count": 0,
      "outputs": []
    },
    {
      "cell_type": "markdown",
      "metadata": {
        "id": "Wc3COHStKJCV",
        "colab_type": "text"
      },
      "source": [
        "Double Layer Decoder"
      ]
    },
    {
      "cell_type": "code",
      "metadata": {
        "id": "NZDlCAsEKLh_",
        "colab_type": "code",
        "colab": {}
      },
      "source": [
        "class Decoder_two(tf.keras.layers.Layer):\n",
        "    def __init__(self, intermediate_dim, original_dim):\n",
        "        super(Decoder_two, self).__init__()\n",
        "        self.hidden_layer = tf.keras.layers.Dense(units=(intermediate_dim / 2), activation=tf.nn.relu)\n",
        "        self.hidden_layer2 = tf.keras.layers.Dense(units= intermediate_dim, activation=tf.nn.relu)\n",
        "        self.output_layer = tf.keras.layers.Dense(units=original_dim, activation=tf.nn.relu)\n",
        "  \n",
        "    def call(self, code):\n",
        "        layer1 = self.hidden_layer(code)\n",
        "        activation = self.hidden_layer2(layer1)\n",
        "        return self.output_layer(activation)"
      ],
      "execution_count": 0,
      "outputs": []
    },
    {
      "cell_type": "markdown",
      "metadata": {
        "id": "wyrQcyPOOX3G",
        "colab_type": "text"
      },
      "source": [
        "Three layer Decoder"
      ]
    },
    {
      "cell_type": "code",
      "metadata": {
        "id": "_PzRCsXcObUu",
        "colab_type": "code",
        "colab": {}
      },
      "source": [
        "class Decoder_three(tf.keras.layers.Layer):\n",
        "    def __init__(self, intermediate_dim, original_dim):\n",
        "        super(Decoder_three, self).__init__()\n",
        "        # self.hidden_layer = tf.keras.layers.Dense(units= ((intermediate_dim / 2) / 2), activation=tf.nn.relu)\n",
        "        self.hidden_layer2 = tf.keras.layers.Dense(units= (intermediate_dim / 2), activation=tf.nn.relu)\n",
        "        self.hidden_layer3 = tf.keras.layers.Dense(units= intermediate_dim, activation=tf.nn.relu)\n",
        "        self.output_layer = tf.keras.layers.Dense(units=original_dim, activation=tf.nn.relu)\n",
        "  \n",
        "    def call(self, code):\n",
        "        #layer1 = self.hidden_layer(code)\n",
        "        layer2 = self.hidden_layer2(code)\n",
        "        activation = self.hidden_layer3(layer2)\n",
        "        return self.output_layer(activation)"
      ],
      "execution_count": 0,
      "outputs": []
    },
    {
      "cell_type": "markdown",
      "metadata": {
        "id": "OIrVEkOxKXk_",
        "colab_type": "text"
      },
      "source": [
        "**Auto Encoder Model**\n",
        "Total of 3 dense layer models are made with 1, 2 and 3 hidden layers repectively."
      ]
    },
    {
      "cell_type": "markdown",
      "metadata": {
        "id": "zM_MFpJ2KdSE",
        "colab_type": "text"
      },
      "source": [
        "Auto Encoder Model for 1 layer"
      ]
    },
    {
      "cell_type": "code",
      "metadata": {
        "id": "ig2w7z0PKk43",
        "colab_type": "code",
        "colab": {}
      },
      "source": [
        "class Autoencoder(tf.keras.Model):\n",
        "  def __init__(self, intermediate_dim, original_dim):\n",
        "    super(Autoencoder, self).__init__()\n",
        "    self.loss = []\n",
        "    self.encoder = Encoder(intermediate_dim=intermediate_dim)\n",
        "    self.decoder = Decoder(intermediate_dim=intermediate_dim, original_dim=original_dim)\n",
        "\n",
        "  def call(self, input_features):\n",
        "    code = self.encoder(input_features)\n",
        "    reconstructed = self.decoder(code)\n",
        "    return reconstructed"
      ],
      "execution_count": 0,
      "outputs": []
    },
    {
      "cell_type": "markdown",
      "metadata": {
        "id": "SX9denbdLKQl",
        "colab_type": "text"
      },
      "source": [
        "Auto Encoder Model for 2 layers"
      ]
    },
    {
      "cell_type": "code",
      "metadata": {
        "id": "IS0ZvEgTLP0e",
        "colab_type": "code",
        "colab": {}
      },
      "source": [
        "class Autoencoder_two(tf.keras.Model):\n",
        "  def __init__(self, intermediate_dim, original_dim):\n",
        "    super(Autoencoder_two, self).__init__()\n",
        "    self.loss = []\n",
        "    self.encoder = Encoder_two(intermediate_dim=intermediate_dim)\n",
        "    self.decoder = Decoder_two(intermediate_dim=intermediate_dim, original_dim=original_dim)\n",
        "\n",
        "  def call(self, input_features):\n",
        "    code = self.encoder(input_features)\n",
        "    reconstructed = self.decoder(code)\n",
        "    return reconstructed"
      ],
      "execution_count": 0,
      "outputs": []
    },
    {
      "cell_type": "markdown",
      "metadata": {
        "id": "3iURW2yYO6Xx",
        "colab_type": "text"
      },
      "source": [
        "Auto Encoder for 3 layers"
      ]
    },
    {
      "cell_type": "code",
      "metadata": {
        "id": "3knKniNVO_a-",
        "colab_type": "code",
        "colab": {}
      },
      "source": [
        "class Autoencoder_three(tf.keras.Model):\n",
        "  def __init__(self, intermediate_dim, original_dim):\n",
        "    super(Autoencoder_three, self).__init__()\n",
        "    self.loss = []\n",
        "    self.encoder = Encoder_three(intermediate_dim=intermediate_dim)\n",
        "    self.decoder = Decoder_three(intermediate_dim=intermediate_dim, original_dim=original_dim)\n",
        "\n",
        "  def call(self, input_features):\n",
        "    code = self.encoder(input_features)\n",
        "    reconstructed = self.decoder(code)\n",
        "    return reconstructed"
      ],
      "execution_count": 0,
      "outputs": []
    },
    {
      "cell_type": "markdown",
      "metadata": {
        "id": "nagaCu8OLuPu",
        "colab_type": "text"
      },
      "source": [
        "**Loss Function**"
      ]
    },
    {
      "cell_type": "code",
      "metadata": {
        "id": "tjW1z1eOL0kJ",
        "colab_type": "code",
        "colab": {}
      },
      "source": [
        "def loss(preds, real):\n",
        "  return tf.reduce_mean(tf.square(tf.subtract(preds, real)))"
      ],
      "execution_count": 0,
      "outputs": []
    },
    {
      "cell_type": "markdown",
      "metadata": {
        "id": "zvvZYn-xMYvX",
        "colab_type": "text"
      },
      "source": [
        "**Forward Pass Optimization**"
      ]
    },
    {
      "cell_type": "code",
      "metadata": {
        "id": "3j2TTLoJMgIV",
        "colab_type": "code",
        "colab": {}
      },
      "source": [
        "def train(loss, model, opt, original):\n",
        "  with tf.GradientTape() as tape:\n",
        "    preds = model(original)\n",
        "    reconstruction_error = loss(preds, original)\n",
        "  gradients = tape.gradient(reconstruction_error, model.trainable_variables)\n",
        "  gradient_variables = zip(gradients, model.trainable_variables)\n",
        "  opt.apply_gradients(gradient_variables)\n",
        "  \n",
        "  return reconstruction_error"
      ],
      "execution_count": 0,
      "outputs": []
    },
    {
      "cell_type": "markdown",
      "metadata": {
        "id": "zAGkR9FcMp3u",
        "colab_type": "text"
      },
      "source": [
        "**Training Loop**"
      ]
    },
    {
      "cell_type": "code",
      "metadata": {
        "id": "gdbOp8MyMwTB",
        "colab_type": "code",
        "colab": {}
      },
      "source": [
        "def train_loop(model, opt, loss, dataset, epochs):\n",
        "  for epoch in range(epochs):\n",
        "    epoch_loss = 0\n",
        "    for step, batch_features in enumerate(dataset):\n",
        "      loss_values = train(loss, model, opt, batch_features)\n",
        "      epoch_loss += loss_values\n",
        "    model.loss.append(epoch_loss)\n",
        "    print('Epoch {}/{}. Loss: {}'.format(epoch + 1, epochs, epoch_loss.numpy()))"
      ],
      "execution_count": 0,
      "outputs": []
    },
    {
      "cell_type": "markdown",
      "metadata": {
        "id": "xJlOKYtOM3Zm",
        "colab_type": "text"
      },
      "source": [
        "**Process Data Set**"
      ]
    },
    {
      "cell_type": "code",
      "metadata": {
        "id": "ZeBmdoqQM6vN",
        "colab_type": "code",
        "outputId": "d0d24441-bc56-41d9-9a5a-f78e4ac9c8c8",
        "colab": {
          "base_uri": "https://localhost:8080/",
          "height": 51
        }
      },
      "source": [
        "from tensorflow.keras.datasets import mnist\n",
        "(x_train, _), (x_test, _) = mnist.load_data()\n",
        "\n",
        "x_train = x_train / 255.\n",
        "\n",
        "x_train = x_train.astype(np.float32)\n",
        "x_train = np.reshape(x_train, (x_train.shape[0], 784))\n",
        "x_test = np.reshape(x_test, (x_test.shape[0], 784))\n",
        "\n",
        "training_dataset = tf.data.Dataset.from_tensor_slices(x_train).batch(256)"
      ],
      "execution_count": 0,
      "outputs": [
        {
          "output_type": "stream",
          "text": [
            "Downloading data from https://storage.googleapis.com/tensorflow/tf-keras-datasets/mnist.npz\n",
            "11493376/11490434 [==============================] - 0s 0us/step\n"
          ],
          "name": "stdout"
        }
      ]
    },
    {
      "cell_type": "markdown",
      "metadata": {
        "id": "0UZWZ6WzNEK9",
        "colab_type": "text"
      },
      "source": [
        "**Train Model**"
      ]
    },
    {
      "cell_type": "markdown",
      "metadata": {
        "id": "dvMA-GIENwjn",
        "colab_type": "text"
      },
      "source": [
        "Model with 1 layer"
      ]
    },
    {
      "cell_type": "code",
      "metadata": {
        "id": "_oxY2kYVNF5S",
        "colab_type": "code",
        "colab": {}
      },
      "source": [
        "model = Autoencoder(intermediate_dim=128, original_dim=784)\n",
        "opt = tf.keras.optimizers.Adam(learning_rate=1e-2)\n",
        "\n",
        "train_loop(model, opt, loss, training_dataset, 100)"
      ],
      "execution_count": 0,
      "outputs": []
    },
    {
      "cell_type": "markdown",
      "metadata": {
        "id": "c6NDuICeN1rV",
        "colab_type": "text"
      },
      "source": [
        "Model With Two Layer"
      ]
    },
    {
      "cell_type": "code",
      "metadata": {
        "id": "AHNkyUJFN4zQ",
        "colab_type": "code",
        "colab": {}
      },
      "source": [
        "model2 = Autoencoder_two(intermediate_dim=128, original_dim=784)\n",
        "#print(model2)\n",
        "opt = tf.keras.optimizers.Adam(learning_rate=1e-2)\n",
        "train_loop(model2, opt, loss, training_dataset, 100)"
      ],
      "execution_count": 0,
      "outputs": []
    },
    {
      "cell_type": "markdown",
      "metadata": {
        "id": "9HRqJ-3QOBnK",
        "colab_type": "text"
      },
      "source": [
        "Model With three layers"
      ]
    },
    {
      "cell_type": "code",
      "metadata": {
        "id": "VPrf0VKfOFag",
        "colab_type": "code",
        "outputId": "e5de27f8-2f8a-4a77-d589-059b5b135b3c",
        "colab": {
          "base_uri": "https://localhost:8080/",
          "height": 1000
        }
      },
      "source": [
        "model3 = Autoencoder_three(intermediate_dim=256, original_dim=784)\n",
        "opt = tf.keras.optimizers.Adam(learning_rate=1e-2)\n",
        "\n",
        "train_loop(model3, opt, loss, training_dataset, 100)"
      ],
      "execution_count": 0,
      "outputs": [
        {
          "output_type": "stream",
          "text": [
            "Epoch 1/100. Loss: 17.815837860107422\n",
            "Epoch 2/100. Loss: 8.633108139038086\n",
            "Epoch 3/100. Loss: 7.396523952484131\n",
            "Epoch 4/100. Loss: 6.795424461364746\n",
            "Epoch 5/100. Loss: 6.474170207977295\n",
            "Epoch 6/100. Loss: 6.240836143493652\n",
            "Epoch 7/100. Loss: 6.040142059326172\n",
            "Epoch 8/100. Loss: 5.920930862426758\n",
            "Epoch 9/100. Loss: 5.773313999176025\n",
            "Epoch 10/100. Loss: 5.6456499099731445\n",
            "Epoch 11/100. Loss: 5.55129337310791\n",
            "Epoch 12/100. Loss: 5.440369129180908\n",
            "Epoch 13/100. Loss: 5.364265441894531\n",
            "Epoch 14/100. Loss: 5.331051826477051\n",
            "Epoch 15/100. Loss: 5.236948013305664\n",
            "Epoch 16/100. Loss: 5.144853115081787\n",
            "Epoch 17/100. Loss: 5.1125168800354\n",
            "Epoch 18/100. Loss: 5.124077320098877\n",
            "Epoch 19/100. Loss: 5.100021839141846\n",
            "Epoch 20/100. Loss: 5.043394088745117\n",
            "Epoch 21/100. Loss: 5.093358993530273\n",
            "Epoch 22/100. Loss: 4.971314907073975\n",
            "Epoch 23/100. Loss: 4.925692558288574\n",
            "Epoch 24/100. Loss: 4.938353061676025\n",
            "Epoch 25/100. Loss: 4.877218723297119\n",
            "Epoch 26/100. Loss: 4.837583541870117\n",
            "Epoch 27/100. Loss: 4.82290506362915\n",
            "Epoch 28/100. Loss: 4.831115245819092\n",
            "Epoch 29/100. Loss: 4.826293468475342\n",
            "Epoch 30/100. Loss: 4.799291610717773\n",
            "Epoch 31/100. Loss: 4.704948902130127\n",
            "Epoch 32/100. Loss: 4.793359756469727\n",
            "Epoch 33/100. Loss: 4.689128875732422\n",
            "Epoch 34/100. Loss: 4.751734256744385\n",
            "Epoch 35/100. Loss: 4.714820384979248\n",
            "Epoch 36/100. Loss: 4.70233154296875\n",
            "Epoch 37/100. Loss: 4.696648120880127\n",
            "Epoch 38/100. Loss: 4.668881416320801\n",
            "Epoch 39/100. Loss: 4.637491703033447\n",
            "Epoch 40/100. Loss: 4.703042984008789\n",
            "Epoch 41/100. Loss: 4.6599931716918945\n",
            "Epoch 42/100. Loss: 4.648740768432617\n",
            "Epoch 43/100. Loss: 4.612952709197998\n",
            "Epoch 44/100. Loss: 4.626903533935547\n",
            "Epoch 45/100. Loss: 4.675991058349609\n",
            "Epoch 46/100. Loss: 4.649561405181885\n",
            "Epoch 47/100. Loss: 4.622437953948975\n",
            "Epoch 48/100. Loss: 4.6067728996276855\n",
            "Epoch 49/100. Loss: 4.591383457183838\n",
            "Epoch 50/100. Loss: 4.637358665466309\n",
            "Epoch 51/100. Loss: 4.601293087005615\n",
            "Epoch 52/100. Loss: 4.582467079162598\n",
            "Epoch 53/100. Loss: 4.629432678222656\n",
            "Epoch 54/100. Loss: 4.597995281219482\n",
            "Epoch 55/100. Loss: 4.560332298278809\n",
            "Epoch 56/100. Loss: 4.566799163818359\n",
            "Epoch 57/100. Loss: 4.61527156829834\n",
            "Epoch 58/100. Loss: 4.6136040687561035\n",
            "Epoch 59/100. Loss: 4.564704418182373\n",
            "Epoch 60/100. Loss: 4.567393779754639\n",
            "Epoch 61/100. Loss: 4.604960918426514\n",
            "Epoch 62/100. Loss: 4.579661846160889\n",
            "Epoch 63/100. Loss: 4.578177452087402\n",
            "Epoch 64/100. Loss: 4.572494983673096\n",
            "Epoch 65/100. Loss: 4.529779434204102\n",
            "Epoch 66/100. Loss: 4.521088600158691\n",
            "Epoch 67/100. Loss: 4.547776222229004\n",
            "Epoch 68/100. Loss: 4.524844169616699\n",
            "Epoch 69/100. Loss: 4.536303520202637\n",
            "Epoch 70/100. Loss: 4.577272891998291\n",
            "Epoch 71/100. Loss: 4.587723731994629\n",
            "Epoch 72/100. Loss: 4.511124134063721\n",
            "Epoch 73/100. Loss: 4.593682765960693\n",
            "Epoch 74/100. Loss: 4.538869380950928\n",
            "Epoch 75/100. Loss: 4.492302894592285\n",
            "Epoch 76/100. Loss: 4.567997455596924\n",
            "Epoch 77/100. Loss: 4.494857311248779\n",
            "Epoch 78/100. Loss: 4.528011322021484\n",
            "Epoch 79/100. Loss: 4.487174034118652\n",
            "Epoch 80/100. Loss: 4.531509876251221\n",
            "Epoch 81/100. Loss: 4.570196628570557\n",
            "Epoch 82/100. Loss: 4.488548755645752\n",
            "Epoch 83/100. Loss: 4.514263153076172\n",
            "Epoch 84/100. Loss: 4.5391645431518555\n",
            "Epoch 85/100. Loss: 4.518131732940674\n",
            "Epoch 86/100. Loss: 4.532537460327148\n",
            "Epoch 87/100. Loss: 4.492788314819336\n",
            "Epoch 88/100. Loss: 4.544054985046387\n",
            "Epoch 89/100. Loss: 4.577022075653076\n",
            "Epoch 90/100. Loss: 4.45080041885376\n",
            "Epoch 91/100. Loss: 4.492397785186768\n",
            "Epoch 92/100. Loss: 4.523595809936523\n",
            "Epoch 93/100. Loss: 4.502540588378906\n",
            "Epoch 94/100. Loss: 4.50169563293457\n",
            "Epoch 95/100. Loss: 4.526849746704102\n",
            "Epoch 96/100. Loss: 4.504870414733887\n",
            "Epoch 97/100. Loss: 4.478749752044678\n",
            "Epoch 98/100. Loss: 4.475870132446289\n",
            "Epoch 99/100. Loss: 4.530419826507568\n",
            "Epoch 100/100. Loss: 4.487424850463867\n"
          ],
          "name": "stdout"
        }
      ]
    },
    {
      "cell_type": "markdown",
      "metadata": {
        "id": "PCOtpF0KtK2c",
        "colab_type": "text"
      },
      "source": [
        "**Predictions**"
      ]
    },
    {
      "cell_type": "markdown",
      "metadata": {
        "id": "3VWyQpMkuqB5",
        "colab_type": "text"
      },
      "source": [
        "Predicton for 1 hidden layer model"
      ]
    },
    {
      "cell_type": "code",
      "metadata": {
        "id": "fQPQFwCKtPZm",
        "colab_type": "code",
        "outputId": "b1efd2f1-601d-4587-a973-34ce7cc6451a",
        "colab": {
          "base_uri": "https://localhost:8080/",
          "height": 248
        }
      },
      "source": [
        "number = 10  # how many digits we will display\n",
        "plt.figure(figsize=(20, 4))\n",
        "for index in range(number):\n",
        "    # display original\n",
        "    ax = plt.subplot(2, number, index + 1)\n",
        "    plt.imshow(x_test[index].reshape(28, 28))\n",
        "    plt.gray()\n",
        "    ax.get_xaxis().set_visible(False)\n",
        "    ax.get_yaxis().set_visible(False)\n",
        "\n",
        "    # display reconstruction\n",
        "    ax = plt.subplot(2, number, index + 1 + number)\n",
        "    plt.imshow(model(x_test)[index].numpy().reshape(28, 28))\n",
        "    plt.gray()\n",
        "    ax.get_xaxis().set_visible(False)\n",
        "    ax.get_yaxis().set_visible(False)\n",
        "plt.show()"
      ],
      "execution_count": 0,
      "outputs": [
        {
          "output_type": "display_data",
          "data": {
            "image/png": "[encoded data removed]",
            "text/plain": [
              "<Figure size 1440x288 with 20 Axes>"
            ]
          },
          "metadata": {
            "tags": []
          }
        }
      ]
    },
    {
      "cell_type": "markdown",
      "metadata": {
        "id": "YpSFofUBuy0W",
        "colab_type": "text"
      },
      "source": [
        "Prediction for 2 hidden layer model"
      ]
    },
    {
      "cell_type": "code",
      "metadata": {
        "id": "Tz1ony8Tu2Rd",
        "colab_type": "code",
        "outputId": "d4d53a4f-a6f4-445a-f035-7df055b98fc3",
        "colab": {
          "base_uri": "https://localhost:8080/",
          "height": 248
        }
      },
      "source": [
        "number = 10  # how many digits we will display\n",
        "plt.figure(figsize=(20, 4))\n",
        "for index in range(number):\n",
        "    # display original\n",
        "    ax = plt.subplot(2, number, index + 1)\n",
        "    plt.imshow(x_test[index].reshape(28, 28))\n",
        "    plt.gray()\n",
        "    ax.get_xaxis().set_visible(False)\n",
        "    ax.get_yaxis().set_visible(False)\n",
        "\n",
        "    # display reconstruction\n",
        "    ax = plt.subplot(2, number, index + 1 + number)\n",
        "    plt.imshow(model2(x_test)[index].numpy().reshape(28, 28))\n",
        "    plt.gray()\n",
        "    ax.get_xaxis().set_visible(False)\n",
        "    ax.get_yaxis().set_visible(False)\n",
        "plt.show()"
      ],
      "execution_count": 0,
      "outputs": [
        {
          "output_type": "display_data",
          "data": {
            "image/png": "[encoded data removed]",
            "text/plain": [
              "<Figure size 1440x288 with 20 Axes>"
            ]
          },
          "metadata": {
            "tags": []
          }
        }
      ]
    },
    {
      "cell_type": "markdown",
      "metadata": {
        "id": "k0fv0grru6e3",
        "colab_type": "text"
      },
      "source": [
        "Predictions for 3 hidden layer Model"
      ]
    },
    {
      "cell_type": "code",
      "metadata": {
        "id": "l8pquHE6u9tg",
        "colab_type": "code",
        "outputId": "a13e1f74-480b-4f50-db9b-0b70cb97aa66",
        "colab": {
          "base_uri": "https://localhost:8080/",
          "height": 248
        }
      },
      "source": [
        "number = 10  # how many digits we will display\n",
        "plt.figure(figsize=(20, 4))\n",
        "for index in range(number):\n",
        "    # display original\n",
        "    ax = plt.subplot(2, number, index + 1)\n",
        "    plt.imshow(x_test[index].reshape(28, 28))\n",
        "    plt.gray()\n",
        "    ax.get_xaxis().set_visible(False)\n",
        "    ax.get_yaxis().set_visible(False)\n",
        "\n",
        "    # display reconstruction\n",
        "    ax = plt.subplot(2, number, index + 1 + number)\n",
        "    plt.imshow(model3(x_test)[index].numpy().reshape(28, 28))\n",
        "    plt.gray()\n",
        "    ax.get_xaxis().set_visible(False)\n",
        "    ax.get_yaxis().set_visible(False)\n",
        "plt.show()"
      ],
      "execution_count": 0,
      "outputs": [
        {
          "output_type": "display_data",
          "data": {
            "image/png": "[encoded data removed]",
            "text/plain": [
              "<Figure size 1440x288 with 20 Axes>"
            ]
          },
          "metadata": {
            "tags": []
          }
        }
      ]
    },
    {
      "cell_type": "markdown",
      "metadata": {
        "id": "eTsLELySwSCn",
        "colab_type": "text"
      },
      "source": [
        "From the Model Loss and Predictions, it can be noticed that the model with 1 hidden layer is performing the best. Since we are reducing the size of the layer. Since the dimensions decrease the data loss while decoding is also more. Thus, accuracy is better for 1 hidden layer model in this case."
      ]
    },
    {
      "cell_type": "markdown",
      "metadata": {
        "id": "FMfDC7XBzPUt",
        "colab_type": "text"
      },
      "source": [
        "## **CNN models**"
      ]
    },
    {
      "cell_type": "markdown",
      "metadata": {
        "id": "3NbP33E_zgxk",
        "colab_type": "text"
      },
      "source": [
        "Prepare Model"
      ]
    },
    {
      "cell_type": "code",
      "metadata": {
        "id": "iTYWruHx0YMr",
        "colab_type": "code",
        "colab": {}
      },
      "source": [
        "input_img = tf.keras.layers.Input(shape=(28, 28, 1)) # adapt this if using `channels_first` image data format\n",
        "\n",
        "x = tf.keras.layers.Conv2D(16, (3, 3), activation='relu', padding='same')(input_img)\n",
        "x = tf.keras.layers.MaxPooling2D((2, 2), padding='same')(x)\n",
        "x = tf.keras.layers.Conv2D(8, (3, 3), activation='relu', padding='same')(x)\n",
        "x = tf.keras.layers.MaxPooling2D((2, 2), padding='same')(x)\n",
        "x = tf.keras.layers.Conv2D(8, (3, 3), activation='relu', padding='same')(x)\n",
        "encoded = tf.keras.layers.MaxPooling2D((2, 2), padding='same')(x)\n",
        "\n",
        "# at this point the representation is (4, 4, 8) i.e. 128-dimensional\n",
        "\n",
        "x = tf.keras.layers.Conv2D(8, (3, 3), activation='relu', padding='same')(encoded)\n",
        "x = tf.keras.layers.UpSampling2D((2, 2))(x)\n",
        "x = tf.keras.layers.Conv2D(8, (3, 3), activation='relu', padding='same')(x)\n",
        "x = tf.keras.layers.UpSampling2D((2, 2))(x)\n",
        "x = tf.keras.layers.Conv2D(16, (3, 3), activation='relu')(x)\n",
        "x = tf.keras.layers.UpSampling2D((2, 2))(x)\n",
        "decoded = tf.keras.layers.Conv2D(1, (3, 3), activation='sigmoid', padding='same')(x)\n",
        "\n",
        "autoencoder = tf.keras.models.Model(input_img, decoded)\n",
        "autoencoder.compile(optimizer='adadelta', loss='binary_crossentropy')"
      ],
      "execution_count": 0,
      "outputs": []
    },
    {
      "cell_type": "markdown",
      "metadata": {
        "id": "S4a8mIRd0hTK",
        "colab_type": "text"
      },
      "source": [
        "Prepare Data Set"
      ]
    },
    {
      "cell_type": "code",
      "metadata": {
        "id": "-bEpWlEH0dmN",
        "colab_type": "code",
        "colab": {}
      },
      "source": [
        "# to train this model we will with original MNIST digits with shape (samples, 3, 28, 28) and we will just normalize pixel values between 0 and 1\n",
        "# (x_train, _), (x_test, _) = load_data('../input/mnist.npz')\n",
        "from tensorflow.keras.datasets import mnist\n",
        "(x_train, _), (x_test, _) = mnist.load_data()\n",
        "\n",
        "x_train = x_train.astype('float32') / 255.\n",
        "x_test = x_test.astype('float32') / 255.\n",
        "x_train = np.reshape(x_train, (len(x_train), 28, 28, 1))\n",
        "x_test = np.reshape(x_test, (len(x_test), 28, 28, 1))"
      ],
      "execution_count": 0,
      "outputs": []
    },
    {
      "cell_type": "markdown",
      "metadata": {
        "id": "TOYDp5j70mFv",
        "colab_type": "text"
      },
      "source": [
        "Fit Model"
      ]
    },
    {
      "cell_type": "code",
      "metadata": {
        "id": "VZ9mfksA0ngc",
        "colab_type": "code",
        "colab": {}
      },
      "source": [
        "autoencoder.fit(x_train, x_train, epochs=50, batch_size=128, \n",
        "                shuffle=True, validation_data=(x_test, x_test), \n",
        "                callbacks=[tf.keras.callbacks.TensorBoard(log_dir='./tmp/autoencoder')])\n",
        "autoencoder.save_weights('data/convauto.h5')"
      ],
      "execution_count": 0,
      "outputs": []
    },
    {
      "cell_type": "code",
      "metadata": {
        "id": "ehjWQJun2PnF",
        "colab_type": "code",
        "colab": {}
      },
      "source": [
        "decoded_imgs = autoencoder.predict(x_test)\n",
        "autoencoder.load_weights('data/convauto.h5')\n",
        "n = 10\n",
        "plt.figure(figsize=(20, 4))\n",
        "for i in range(n):\n",
        "    \n",
        "    # original\n",
        "    ax = plt.subplot(2, n, i+1)\n",
        "    plt.imshow(x_test[i].reshape(28, 28))\n",
        "    plt.gray()\n",
        "    ax.get_xaxis().set_visible(False)\n",
        "    ax.get_yaxis().set_visible(False)\n",
        "\n",
        "    # reconstruction\n",
        "    ax = plt.subplot(2, n, i + 1 + n)\n",
        "    plt.imshow(decoded_imgs[i].reshape(28, 28))\n",
        "    plt.gray()\n",
        "    ax.get_xaxis().set_visible(False)\n",
        "    ax.get_yaxis().set_visible(False)\n",
        "plt.show()"
      ],
      "execution_count": 0,
      "outputs": []
    }
  ]
}